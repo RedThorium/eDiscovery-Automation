{
 "cells": [
  {
   "cell_type": "code",
   "execution_count": 6,
   "metadata": {},
   "outputs": [],
   "source": [
    "from collections import Counter\n",
    "from collections import defaultdict\n",
    "import csv\n",
    "import math\n",
    "\n",
    "import os\n",
    "\n",
    "# Input data files are available in the \"../input/\" directory.\n",
    "# For example, running this (by clicking run or pressing Shift+Enter) will list the files in the input directory\n"
   ]
  },
  {
   "cell_type": "markdown",
   "metadata": {},
   "source": [
    "Outline \n",
    "\n",
    "- Script should be able to take in bates numbers and bates ranges and return a list of bates numbers that contain all of the bates nubmers of the pages of each of the ranges and indvidual bates numbers\n",
    "\n",
    "- The Script should be able to handle bates prefixes with \"-\" , \"_\" and spaces \n",
    "\n",
    "-  Difficult case will be one where there is a range with bates prefixes that contain \"-\" because there at least three \"-\" that will prevent the bates range from being split along the \"-\"\n",
    "\n",
    "- The script should take in a list of bates numbers and bates ranges from a csv and write out a list of bates numbers that contain all of the bates nubmers of the pages of each of the ranges and indvidual bates numbers to a different csv\n",
    "\n",
    "Functions \n",
    "\n",
    "- split_bates - splits bates number into prefix and number\n"
   ]
  },
  {
   "cell_type": "code",
   "execution_count": 34,
   "metadata": {},
   "outputs": [
    {
     "name": "stdout",
     "output_type": "stream",
     "text": [
      "('Bates', '1')\n",
      "('Bates1', '10')\n",
      "('Bates 100', '2000')\n",
      "charPos = 5, dashPos = 1 , midDash = 3\n",
      "charPos = 11, dashPos = 2 , midDash = 3\n",
      "charPos = 16, dashPos = 3 , midDash = 3\n",
      "('Bates-Range-0001', 'Bates-Range-0003')\n"
     ]
    },
    {
     "data": {
      "text/plain": [
       "17"
      ]
     },
     "execution_count": 34,
     "metadata": {},
     "output_type": "execute_result"
    }
   ],
   "source": [
    "testBates1 = \"Bates000000001\"\n",
    "testRange1 = \"Bates000000045-Bates00000090\"\n",
    "testBates2 = \"Bate-Range00000300\"\n",
    "testRange2 = \"Bate-Range00000500-Bate-Range00000700\"\n",
    "\n",
    "testRange3 = \"Bates-Range-0001-Bates-Range-0003\"\n",
    "\n",
    "unformBates1 = \"Bates1\"\n",
    "unformRange1 = \"Bates1-10\"\n",
    "unformRange2 = \"Bates 100 - 2000\"\n",
    "\n",
    "print(split_bates(unformBates1))\n",
    "print(split_range(unformRange1))\n",
    "print(split_range(unformRange2))\n",
    "print(split_range(testRange3))\n",
    "\n",
    "testRange3.find('B',1)"
   ]
  },
  {
   "cell_type": "code",
   "execution_count": null,
   "metadata": {},
   "outputs": [],
   "source": [
    "prefix1 , number1 = split_bates(testRange1)\n",
    "print(prefix1)\n",
    "print(number1)"
   ]
  },
  {
   "cell_type": "code",
   "execution_count": 1,
   "metadata": {},
   "outputs": [],
   "source": [
    "numberDict = {}\n",
    "lengthDict = {}\n",
    "orginalDict = {}\n",
    "\n",
    "#function splits bates number into prefix and number \n",
    "#if the batesNumber passed to the function is a int it will return an empty string as the prefix \n",
    "def split_bates(batesNumber):\n",
    "    batesNumber = str(batesNumber)\n",
    "    prefix = \"\"\n",
    "    number = \"\"\n",
    "    \n",
    "    if(batesNumber.isdigit()):\n",
    "        return prefix , batesNumber\n",
    "    else:\n",
    "        for i in batesNumber:\n",
    "          if(i.isdigit()!= True):\n",
    "            prefix = prefix + i\n",
    "          else:\n",
    "            number = number + i\n",
    "        return prefix , number\n",
    "\n",
    "def check_for_dashes(batesNumber):\n",
    "    batesNumber = str(batesNumber)\n",
    "    counter = Counter(batesNumber)\n",
    "    return counter['-']\n",
    "\n",
    "def split_specific_dash(Num , numPos):\n",
    "    splitNum1 = Num[:numPos]\n",
    "    splitNum2 = Num[numPos+1:]\n",
    "    return splitNum1 , splitNum2\n",
    "\n",
    "#splits bates ranges \n",
    "def split_range(batesRange):\n",
    "    batesRange = str(batesRange)\n",
    "    batesNum1 = \"\"\n",
    "    batesNum2 = \"\"\n",
    "   \n",
    "    #condition if bates range only has one \"-\"\n",
    "    if (check_for_dashes(batesRange) == 1): \n",
    "        batesNum1 , batesNum2 = batesRange.split(\"-\")\n",
    "\n",
    "    #condition if bates range has three \"-\" or more\n",
    "    elif(check_for_dashes(batesRange) >= 3):\n",
    "        numDash = check_for_dashes(batesRange)\n",
    "        midDash = math.ceil(numDash/2)\n",
    "        \n",
    "        dashPos = 0\n",
    "        charPos = 0 \n",
    "        \n",
    "        while(dashPos != midDash):\n",
    "            charPos = batesRange.find('-',charPos+1)\n",
    "            dashPos+=1\n",
    "            \n",
    "        batesNum1 , batesNum2 = split_specific_dash(batesRange,charPos)\n",
    "\n",
    "    #Stripping whitespaces from before and after the bates numbers\n",
    "    batesNum1 = batesNum1.strip()\n",
    "    batesNum2 = batesNum2.strip()\n",
    "    return batesNum1 , batesNum2\n",
    "\n",
    "#check if a one dash bates number is a bates range or bates number \n",
    "def check_if_batesNum(bates):\n",
    "    bateSegs = bates.split(\"-\")\n",
    "    numSegCount = 0\n",
    "    charSegCount = 0\n",
    "\n",
    "    for segment in bateSegs:\n",
    "        if segment.isdigit():\n",
    "            numSegCount+=1\n",
    "        else:\n",
    "            charSegCount+=1\n",
    "    \n",
    "    return numSegCount==1\n",
    "\n",
    "def add_elements_to_Dict(prefix,num,numberDict,lengthDict,originalDict):\n",
    "    zeroPad = len(num)\n",
    "    if prefix in numberDict:\n",
    "        numberDict['prefix'].append(int(num))\n",
    "        originalDict['prefix'].append(bates)\n",
    "    else:\n",
    "        numberDict['prefix'] = [int(num)]\n",
    "        lengthDict['prefix'] = [zeroPad]\n",
    "        originalDict['prefix'] = [bates]\n",
    "            \n",
    "            \n",
    "#adding bates numbers to the numberDict, lengthDic and orginalDict based off of three base cases \n",
    "# 1) bates numbers without \"-\"\n",
    "# 2) bates numbers containing a single \"-\"\n",
    "# 3) bates ranges\n",
    "\n",
    "def add_to_Dict(bates,numberDict,lengthDict,originalDict):\n",
    "    bates = str(bates)\n",
    "    \n",
    "    #Case for bates number with or without dashes \n",
    "    if(check_if_batesNum(bates)):\n",
    "        prefix , num = split_bates(bates)\n",
    "        add_elements_to_Dict(prefix,num,numberDict,lengthDict,originalDict)\n",
    "    \n",
    "    #Case for bates range\n",
    "    elif(check_for_dashes(bates) >= 1 ):\n",
    "        batesNum1 , batesNum2 = split_range(bates)\n",
    "        prefix1 , num1 = split_bates(batesNum1)                              \n",
    "        prefix2 , num2 = split_bates(batesNum2)\n",
    "        \n",
    "        zeroPad = len(num1)\n",
    "        \n",
    "        num1 = int(num1)\n",
    "        num2 = int(num2)\n",
    "                                        \n",
    "        ###### NEED TO FIX LOGIC - add the bates list to the numberDict or bates range? ######                      \n",
    "        for i in range(num1 , num2+1):     \n",
    "            add_elements_to_Dict(prefix1,i.zfill(zeroPad),numberDict,lengthDict,originalDict)\n",
    "                                        \n",
    "                                                                              \n",
    "                                        \n",
    "def create_bates_list(prefix, num1 , num2):\n",
    "    batesList = []\n",
    "    for i in range(num1 , num2+1):\n",
    "        j = i\n",
    "        j = str(j)\n",
    "        batesList.append(prefix1 + j.zfill(length))\n",
    "    return batesList\n"
   ]
  },
  {
   "cell_type": "code",
   "execution_count": null,
   "metadata": {},
   "outputs": [],
   "source": [
    "cwd = os.getcwd()\n",
    "INPUT_FOLDER = 'Raw_Bates_Numbers'\n",
    "OUTPUT_FOLDER = 'Final_Bates_List'\n",
    "\n",
    "INPUT_FILE = 'inputFile.csv'\n",
    "OUTPUT_FILE = 'outputFile.csv'\n",
    "\n",
    "INPUT_PATH = os.path.join(cwd , INPUT_FOLDER , INPUT_FILE)\n",
    "OUTPUT_PATH = os.path.join(cwd , OUTPUT_FOLDER , OUTPUT_FILE)\n",
    "\n",
    "tempList = []\n",
    "\n",
    "output = open(OUTPUT_PATH, 'w')\n",
    "wr = csv.writer(output, quoting=csv.QUOTE_ALL)\n",
    "    \n",
    "    \n",
    "#Reading from a CSV\n",
    "with open(INPUT_PATH) as csv_file:\n",
    "    csv_reader = csv.reader(csv_file, delimiter=',')\n",
    "    for row in csv_reader:\n",
    "        if (check_for_dashes(row) == 0):\n",
    "            wr.writerow(row)\n",
    "        else:\n",
    "            row = str(row)\n",
    "            tempList = create_bates_list(row)\n",
    "            print(row)\n",
    "            print(tempList)\n",
    "            for i in tempList:\n",
    "                i = str(i)\n",
    "                wr.writerow(i)\n",
    "\n",
    "wr.writerow('Pie')\n",
    "output.close\n"
   ]
  },
  {
   "cell_type": "code",
   "execution_count": null,
   "metadata": {},
   "outputs": [],
   "source": [
    "#logic to store bates prefixes and digit numbers in dictionary with bates prefixes as the keys\n",
    "batesNumSpecs = {}\n"
   ]
  },
  {
   "cell_type": "code",
   "execution_count": null,
   "metadata": {},
   "outputs": [],
   "source": [
    "print(split_range(testRange2))\n",
    "\n"
   ]
  },
  {
   "cell_type": "code",
   "execution_count": null,
   "metadata": {},
   "outputs": [],
   "source": [
    "x = \"00001\"\n",
    "x = int(x)\n",
    "print(x)"
   ]
  },
  {
   "cell_type": "code",
   "execution_count": null,
   "metadata": {},
   "outputs": [],
   "source": [
    "test = \"bates\"\n",
    "y = \"1\"\n",
    "\n",
    "new = test + y.zfill(4)\n",
    "\n",
    "print(new)"
   ]
  },
  {
   "cell_type": "code",
   "execution_count": 37,
   "metadata": {},
   "outputs": [
    {
     "name": "stdout",
     "output_type": "stream",
     "text": [
      "[2]\n",
      "{'test1': [2]}\n",
      "True\n",
      "1.0\n",
      "1.0\n"
     ]
    }
   ],
   "source": [
    "x = {}\n",
    "\n",
    "x['test1'] = []\n",
    "x['test1'].append(2)\n",
    "\n",
    "print(x['test1'])\n",
    "\n",
    "print(x)\n",
    "\n",
    "print('test1' in x)\n",
    "\n",
    "print(float(1))\n",
    "print(float(\"1\"))"
   ]
  },
  {
   "cell_type": "code",
   "execution_count": 39,
   "metadata": {},
   "outputs": [
    {
     "name": "stdout",
     "output_type": "stream",
     "text": [
      "Part1 is abc \n",
      "Part2 is -efg\n",
      "False\n"
     ]
    }
   ],
   "source": [
    "stringEX = \"abc-efg\"\n",
    "\n",
    "part1 = stringEX[:3]\n",
    "part2 = stringEX[3:]\n",
    "\n",
    "print(\"Part1 is {} \\nPart2 is {}\".format(part1,part2))\n",
    "\n",
    "x = \"x123\"\n",
    "\n",
    "print(x.isdigit())"
   ]
  },
  {
   "cell_type": "code",
   "execution_count": 40,
   "metadata": {},
   "outputs": [
    {
     "name": "stdout",
     "output_type": "stream",
     "text": [
      "1\n",
      "True\n"
     ]
    }
   ],
   "source": [
    "x = \"1\"\n",
    "print (x)\n",
    "\n",
    "y = x.isdigit()\n",
    "\n",
    "print(y)"
   ]
  },
  {
   "cell_type": "code",
   "execution_count": 5,
   "metadata": {},
   "outputs": [
    {
     "name": "stdout",
     "output_type": "stream",
     "text": [
      "['bate', 'new', 'sum', 'great', '100', 'bate', 'new', 'sum', 'great', '200']\n",
      "2\n",
      "8\n"
     ]
    }
   ],
   "source": [
    "x = \"bate-new-sum-great-100-bate-new-sum-great-200\"\n",
    "\n",
    "xList = x.split(\"-\")\n",
    "print(xList)\n",
    "numSegCount = 0\n",
    "charSegCount = 0\n",
    "\n",
    "for segment in xList:\n",
    "    if segment.isdigit():\n",
    "        numSegCount+=1\n",
    "    else:\n",
    "        charSegCount+=1\n",
    "\n",
    "print(numSegCount)\n",
    "print(charSegCount)\n",
    "        "
   ]
  },
  {
   "cell_type": "code",
   "execution_count": 5,
   "metadata": {},
   "outputs": [
    {
     "name": "stdout",
     "output_type": "stream",
     "text": [
      "10\n",
      "10\n"
     ]
    }
   ],
   "source": [
    "for i in range(10,12):\n",
    "    print(10)"
   ]
  },
  {
   "cell_type": "code",
   "execution_count": 11,
   "metadata": {},
   "outputs": [
    {
     "name": "stdout",
     "output_type": "stream",
     "text": [
      " abc\n"
     ]
    }
   ],
   "source": [
    "x = \" \"\n",
    "y = \"abc\"\n",
    "x +=y\n",
    "\n",
    "print(x)"
   ]
  },
  {
   "cell_type": "code",
   "execution_count": null,
   "metadata": {},
   "outputs": [],
   "source": [
    "#Case for bates number with a dash - older logic\n",
    "    elif(check_for_dashes(bates)>= 1 and check_if_batesNum(bates)):\n",
    "        segList = bates.split(\"-\")\n",
    "        prefix = num = \" \"\n",
    "        for seg in segList:\n",
    "            if seg.isdigit():\n",
    "                num+=seg\n",
    "            else:\n",
    "                prefix+=seg\n",
    "        add_elements_to_Dict(prefix,num,numberDict,lengthDict,originalDict)"
   ]
  }
 ],
 "metadata": {
  "kernelspec": {
   "display_name": "Python 3",
   "language": "python",
   "name": "python3"
  },
  "language_info": {
   "codemirror_mode": {
    "name": "ipython",
    "version": 3
   },
   "file_extension": ".py",
   "mimetype": "text/x-python",
   "name": "python",
   "nbconvert_exporter": "python",
   "pygments_lexer": "ipython3",
   "version": "3.7.1"
  }
 },
 "nbformat": 4,
 "nbformat_minor": 2
}
