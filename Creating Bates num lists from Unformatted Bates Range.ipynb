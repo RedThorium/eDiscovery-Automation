{
 "cells": [
  {
   "cell_type": "code",
   "execution_count": 5,
   "metadata": {},
   "outputs": [],
   "source": [
    "from collections import Counter\n",
    "import csv\n",
    "import math\n",
    "\n",
    "\n",
    "\n",
    "\n",
    "\n",
    "import os\n",
    "\n",
    "# Input data files are available in the \"../input/\" directory.\n",
    "# For example, running this (by clicking run or pressing Shift+Enter) will list the files in the input directory\n"
   ]
  },
  {
   "cell_type": "markdown",
   "metadata": {},
   "source": [
    "Outline \n",
    "\n",
    "- Script should be able to take in bates numbers and bates ranges and return a list of bates numbers that contain all of the bates nubmers of the pages of each of the ranges and indvidual bates numbers\n",
    "\n",
    "- The Script should be able to handle bates prefixes with \"-\" , \"_\" and spaces \n",
    "\n",
    "-  Difficult case will be one where there is a range with bates prefixes that contain \"-\" because there at least three \"-\" that will prevent the bates range from being split along the \"-\"\n",
    "\n",
    "- The script should take in a list of bates numbers and bates ranges from a csv and write out a list of bates numbers that contain all of the bates nubmers of the pages of each of the ranges and indvidual bates numbers to a different csv\n",
    "\n",
    "Functions \n",
    "\n",
    "- split_bates - splits bates number into prefix and number\n"
   ]
  },
  {
   "cell_type": "code",
   "execution_count": 18,
   "metadata": {},
   "outputs": [
    {
     "name": "stdout",
     "output_type": "stream",
     "text": [
      "['Bates-Range0001', 'Bates-Range0002', 'Bates-Range0003']\n",
      "('Bates', '1')\n"
     ]
    },
    {
     "data": {
      "text/plain": [
       "2"
      ]
     },
     "execution_count": 18,
     "metadata": {},
     "output_type": "execute_result"
    }
   ],
   "source": [
    "testBates1 = \"Bates000000001\"\n",
    "testRange1 = \"Bates000000045-Bates00000090\"\n",
    "testBates2 = \"Bate-Range00000300\"\n",
    "testRange2 = \"Bate-Range00000500-Bate-Range00000700\"\n",
    "\n",
    "testRange3 = \"Bates-Range0001-Bates-Range0003\"\n",
    "\n",
    "unformBates1 = \"Bates1\"\n",
    "unformRange1 = \"Bates1-10\"\n",
    "unformRange2 = \"Bates\"\n",
    "\n",
    "testTest = \"BBB\"\n",
    "\n",
    "\n",
    "print(create_bates_list(testRange3))\n",
    "\n",
    "print(split_bates(unformBates1))\n",
    "\n",
    "testTest.find('B' ,2)"
   ]
  },
  {
   "cell_type": "code",
   "execution_count": 7,
   "metadata": {},
   "outputs": [
    {
     "name": "stdout",
     "output_type": "stream",
     "text": [
      "1\n",
      "True\n"
     ]
    }
   ],
   "source": [
    "x = \"1\"\n",
    "print (x)\n",
    "\n",
    "y = x.isdigit()\n",
    "\n",
    "print(y)"
   ]
  },
  {
   "cell_type": "code",
   "execution_count": 8,
   "metadata": {},
   "outputs": [
    {
     "name": "stdout",
     "output_type": "stream",
     "text": [
      "Bates-Bates\n",
      "00000004500000090\n"
     ]
    }
   ],
   "source": [
    "prefix1 , number1 = split_bates(testRange1)\n",
    "print(prefix1)\n",
    "print(number1)"
   ]
  },
  {
   "cell_type": "code",
   "execution_count": 9,
   "metadata": {},
   "outputs": [],
   "source": [
    "prefixDict = {}\n",
    "lengthDict = {}\n",
    "\n",
    "#function splits bates number into prefix and number\n",
    "def split_bates(batesNumber):\n",
    "    batesNumber = str(batesNumber)\n",
    "    prefix = \"\"\n",
    "    number = \"\"\n",
    "    \n",
    "    for i in batesNumber:\n",
    "      if(i.isdigit()!= True):\n",
    "        prefix = prefix + i\n",
    "      else:\n",
    "        number = number + i\n",
    "        \n",
    "    return prefix , number\n",
    "\n",
    "def check_for_dashes(batesNumber):\n",
    "    batesNumber = str(batesNumber)\n",
    "    counter = Counter(batesNumber)\n",
    "    return counter['-']\n",
    "\n",
    "def split_specfic_dash(Num , dashSplit):\n",
    "    splitNum1 = Num[:dashSplit]\n",
    "    splitNum2 = Num[dashSplt:]\n",
    "    return splitNum1 , splitNum2\n",
    "\n",
    "#splits bates ranges \n",
    "def split_range(batesRange):\n",
    "    batesRange = str(batesRange)\n",
    "    batesNum1 = \"\"\n",
    "    batesNum2 = \"\"\n",
    "   \n",
    "    #condition if bates range only has one \"-\"\n",
    "    if (check_for_dashes(batesRange) == 1):\n",
    "        batesNum1 , batesNum2 = batesRange.split(\"-\")\n",
    "\n",
    "    #condition if bates range has three \"-\"\n",
    "    elif(check_for_dashes(batesRange) >= 3):\n",
    "        numberOfDashes = check_for_dashes(batesRange)\n",
    "        middleDash = math.ceil(numberOfDashes/2)\n",
    "        \n",
    "        i = 0\n",
    "        dashPos = 0\n",
    "        while (i != middleDash):\n",
    "            dashPos = batesRange.find('-', dashPos + 1)\n",
    "            i+=1\n",
    "        \n",
    "        \n",
    "        \n",
    "        prefix1 , num1 , prefix2 , num2 = batesRange.split(\"-\")\n",
    "        batesNum1 = prefix1 + \"-\" + num1\n",
    "        batesNum2 = prefix2 + \"-\" + num2\n",
    "        \n",
    "\n",
    "\n",
    "    #Stripping whitespaces from before and after the bates numbers\n",
    "    batesNum1 = batesNum1.strip()\n",
    "    batesNum2 = batesNum2.strip()\n",
    "    return batesNum1 , batesNum2\n",
    "         \n",
    "def create_bates_list(bates):\n",
    "    bates = str(bates)\n",
    "    batesList = []\n",
    "    batesNum1 = prefix1 = num1 = batesNum2 = prefix2 = num2 = \"\"\n",
    "    \n",
    "    if(check_for_dashes(bates) == 0 ):\n",
    "        return bates\n",
    "    elif(check_for_dashes(bates) >= 1 ):\n",
    "        batesNum1 , batesNum2 = split_range(bates)\n",
    "        prefix1 , num1 = split_bates(batesNum1)\n",
    "        prefix2 , num2 = split_bates(batesNum2)\n",
    "        \n",
    "        length = len(num1)\n",
    "        \n",
    "        num1 = int(num1)\n",
    "        num2 = int(num2)\n",
    "        \n",
    "        for i in range(num1 , num2+1):\n",
    "            j = i\n",
    "            j = str(j)\n",
    "            batesList.append(prefix1 + j.zfill(length))\n",
    "        return batesList\n"
   ]
  },
  {
   "cell_type": "code",
   "execution_count": 10,
   "metadata": {},
   "outputs": [
    {
     "name": "stdout",
     "output_type": "stream",
     "text": [
      "['bates-range00003-bates-range00010']\n",
      "[\"['bates-range00003\", \"['bates-range00004\", \"['bates-range00005\", \"['bates-range00006\", \"['bates-range00007\", \"['bates-range00008\", \"['bates-range00009\", \"['bates-range00010\"]\n"
     ]
    },
    {
     "data": {
      "text/plain": [
       "<function TextIOWrapper.close()>"
      ]
     },
     "execution_count": 10,
     "metadata": {},
     "output_type": "execute_result"
    }
   ],
   "source": [
    "cwd = os.getcwd()\n",
    "INPUT_FOLDER = 'Raw_Bates_Numbers'\n",
    "OUTPUT_FOLDER = 'Final_Bates_List'\n",
    "\n",
    "INPUT_FILE = 'inputFile.csv'\n",
    "OUTPUT_FILE = 'outputFile.csv'\n",
    "\n",
    "INPUT_PATH = os.path.join(cwd , INPUT_FOLDER , INPUT_FILE)\n",
    "OUTPUT_PATH = os.path.join(cwd , OUTPUT_FOLDER , OUTPUT_FILE)\n",
    "\n",
    "tempList = []\n",
    "\n",
    "output = open(OUTPUT_PATH, 'w')\n",
    "wr = csv.writer(output, quoting=csv.QUOTE_ALL)\n",
    "    \n",
    "    \n",
    "#Reading from a CSV\n",
    "with open(INPUT_PATH) as csv_file:\n",
    "    csv_reader = csv.reader(csv_file, delimiter=',')\n",
    "    for row in csv_reader:\n",
    "        if (check_for_dashes(row) == 0):\n",
    "            wr.writerow(row)\n",
    "        else:\n",
    "            row = str(row)\n",
    "            tempList = create_bates_list(row)\n",
    "            print(row)\n",
    "            print(tempList)\n",
    "            for i in tempList:\n",
    "                i = str(i)\n",
    "                wr.writerow(i)\n",
    "\n",
    "wr.writerow('Pie')\n",
    "output.close\n"
   ]
  },
  {
   "cell_type": "code",
   "execution_count": 11,
   "metadata": {},
   "outputs": [],
   "source": [
    "#logic to store bates prefixes and digit numbers in dictionary with bates prefixes as the keys\n",
    "batesNumSpecs = {}\n"
   ]
  },
  {
   "cell_type": "code",
   "execution_count": 12,
   "metadata": {},
   "outputs": [
    {
     "name": "stdout",
     "output_type": "stream",
     "text": [
      "('Bate-Range00000500', 'Bate-Range00000700')\n"
     ]
    }
   ],
   "source": [
    "print(split_range(testRange2))\n",
    "\n"
   ]
  },
  {
   "cell_type": "code",
   "execution_count": 13,
   "metadata": {},
   "outputs": [
    {
     "name": "stdout",
     "output_type": "stream",
     "text": [
      "1\n"
     ]
    }
   ],
   "source": [
    "x = \"00001\"\n",
    "x = int(x)\n",
    "print(x)"
   ]
  },
  {
   "cell_type": "code",
   "execution_count": 14,
   "metadata": {},
   "outputs": [
    {
     "name": "stdout",
     "output_type": "stream",
     "text": [
      "bates0001\n"
     ]
    }
   ],
   "source": [
    "test = \"bates\"\n",
    "y = \"1\"\n",
    "\n",
    "new = test + y.zfill(4)\n",
    "\n",
    "print(new)"
   ]
  },
  {
   "cell_type": "code",
   "execution_count": null,
   "metadata": {},
   "outputs": [],
   "source": []
  }
 ],
 "metadata": {
  "kernelspec": {
   "display_name": "Python 3",
   "language": "python",
   "name": "python3"
  },
  "language_info": {
   "codemirror_mode": {
    "name": "ipython",
    "version": 3
   },
   "file_extension": ".py",
   "mimetype": "text/x-python",
   "name": "python",
   "nbconvert_exporter": "python",
   "pygments_lexer": "ipython3",
   "version": "3.7.1"
  }
 },
 "nbformat": 4,
 "nbformat_minor": 2
}
