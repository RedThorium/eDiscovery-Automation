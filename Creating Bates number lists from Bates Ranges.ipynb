{
 "cells": [
  {
   "cell_type": "code",
   "execution_count": 2,
   "metadata": {},
   "outputs": [],
   "source": [
    "# This Python 3 environment comes with many helpful analytics libraries installed\n",
    "# It is defined by the kaggle/python docker image: https://github.com/kaggle/docker-python\n",
    "# For example, here's several helpful packages to load in \n",
    "\n",
    "import numpy as np # linear algebra\n",
    "import pandas as pd # data processing, CSV file I/O (e.g. pd.read_csv)\n",
    "import matplotlib.pyplot as plt\n",
    "import seaborn as sns\n",
    "from collections import Counter\n",
    "import csv\n",
    "\n",
    "import os\n",
    "\n",
    "# Input data files are available in the \"../input/\" directory.\n",
    "# For example, running this (by clicking run or pressing Shift+Enter) will list the files in the input directory\n"
   ]
  },
  {
   "cell_type": "markdown",
   "metadata": {},
   "source": [
    "Outline \n",
    "\n",
    "- Script should be able to take in bates numbers and bates ranges and return a list of bates numbers that contain all of the bates nubmers of the pages of each of the ranges and indvidual bates numbers\n",
    "\n",
    "- The Script should be able to handle bates prefixes with \"-\" , \"_\" and spaces \n",
    "\n",
    "-  Difficult case will be one where there is a range with bates prefixes that contain \"-\" because there at least three \"-\" that will prevent the bates range from being split along the \"-\"\n",
    "\n",
    "- The script should take in a list of bates numbers and bates ranges from a csv and write out a list of bates numbers that contain all of the bates nubmers of the pages of each of the ranges and indvidual bates numbers to a different csv\n",
    "\n",
    "Functions \n",
    "\n",
    "- split_bates - splits bates number into prefix and number\n"
   ]
  },
  {
   "cell_type": "code",
   "execution_count": 53,
   "metadata": {},
   "outputs": [
    {
     "name": "stdout",
     "output_type": "stream",
     "text": [
      "['Bates-Range0001', 'Bates-Range0002', 'Bates-Range0003']\n"
     ]
    }
   ],
   "source": [
    "testBates1 = \"Bates000000001\"\n",
    "testRange1 = \"Bates000000045-Bates00000090\"\n",
    "testBates2 = \"Bate-Range00000300\"\n",
    "testRange2 = \"Bate-Range00000500-Bate-Range00000700\"\n",
    "\n",
    "testRange3 = \"Bates-Range0001-Bates-Range0003\"\n",
    "\n",
    "print(create_bates_list(testRange3))"
   ]
  },
  {
   "cell_type": "code",
   "execution_count": 15,
   "metadata": {},
   "outputs": [
    {
     "name": "stdout",
     "output_type": "stream",
     "text": [
      "Bates000000001\n",
      "Bates\n",
      "000000001\n"
     ]
    }
   ],
   "source": [
    "print(testBates1)\n",
    "exampleBates = str(testBates1)\n",
    "\n",
    "prefix = \"\"\n",
    "number = \"\"\n",
    "\n",
    "for i in exampleBates:\n",
    "  if(i.isdigit()!= True):\n",
    "    prefix = prefix + i\n",
    "  else:\n",
    "    number = number + i\n",
    "    \n",
    "print(prefix)\n",
    "print(number)\n",
    "     "
   ]
  },
  {
   "cell_type": "code",
   "execution_count": 13,
   "metadata": {},
   "outputs": [
    {
     "name": "stdout",
     "output_type": "stream",
     "text": [
      "1\n",
      "True\n"
     ]
    }
   ],
   "source": [
    "x = \"1\"\n",
    "print (x)\n",
    "\n",
    "y = x.isdigit()\n",
    "\n",
    "print(y)"
   ]
  },
  {
   "cell_type": "code",
   "execution_count": 22,
   "metadata": {},
   "outputs": [],
   "source": [
    "#function splits bates number into prefix and number\n",
    "def split_bates(batesNumber):\n",
    "    batesNumber = str(batesNumber)\n",
    "    prefix = \"\"\n",
    "    number = \"\"\n",
    "    \n",
    "    for i in batesNumber:\n",
    "      if(i.isdigit()!= True):\n",
    "        prefix = prefix + i\n",
    "      else:\n",
    "        number = number + i\n",
    "        \n",
    "    return prefix , number"
   ]
  },
  {
   "cell_type": "code",
   "execution_count": 23,
   "metadata": {},
   "outputs": [
    {
     "name": "stdout",
     "output_type": "stream",
     "text": [
      "Bates-Bates\n",
      "00000004500000090\n"
     ]
    }
   ],
   "source": [
    "prefix1 , number1 = split_bates(testRange1)\n",
    "print(prefix1)\n",
    "print(number1)"
   ]
  },
  {
   "cell_type": "code",
   "execution_count": 3,
   "metadata": {},
   "outputs": [],
   "source": [
    "#function splits bates number into prefix and number\n",
    "def split_bates(batesNumber):\n",
    "    batesNumber = str(batesNumber)\n",
    "    prefix = \"\"\n",
    "    number = \"\"\n",
    "    \n",
    "    for i in batesNumber:\n",
    "      if(i.isdigit()!= True):\n",
    "        prefix = prefix + i\n",
    "      else:\n",
    "        number = number + i\n",
    "        \n",
    "    return prefix , number\n",
    "\n",
    "def check_for_dashes(batesNumber):\n",
    "    batesNumber = str(batesNumber)\n",
    "    counter = Counter(batesNumber)\n",
    "    return counter['-']\n",
    "\n",
    "#splits bates ranges \n",
    "def split_range(batesRange):\n",
    "    batesRange = str(batesRange)\n",
    "    batesNum1 = \"\"\n",
    "    batesNum2 = \"\"\n",
    "    \n",
    "    #condition if bates range only has one \"-\"\n",
    "    if (check_for_dashes(batesRange) == 1):\n",
    "        batesNum1 , batesNum2 = batesRange.split(\"-\")\n",
    "\n",
    "    #condition if bates range has three \"-\"\n",
    "    elif(check_for_dashes(batesRange) == 3):\n",
    "        prefix1 , num1 , prefix2 , num2 = batesRange.split(\"-\")\n",
    "        batesNum1 = prefix1 + \"-\" + num1\n",
    "        batesNum2 = prefix2 + \"-\" + num2\n",
    "    \n",
    "    #Stripping whitespaces from before and after the bates numbers\n",
    "    batesNum1 = batesNum1.strip()\n",
    "    batesNum2 = batesNum2.strip()\n",
    "    return batesNum1 , batesNum2\n",
    "         \n",
    "def create_bates_list(bates):\n",
    "    bates = str(bates)\n",
    "    batesList = []\n",
    "    batesNum1 = prefix1 = num1 = batesNum2 = prefix2 = num2 = \"\"\n",
    "    \n",
    "    if(check_for_dashes(bates) == 0 ):\n",
    "        return bates\n",
    "    elif(check_for_dashes(bates) >= 1 ):\n",
    "        batesNum1 , batesNum2 = split_range(bates)\n",
    "        prefix1 , num1 = split_bates(batesNum1)\n",
    "        prefix2 , num2 = split_bates(batesNum2)\n",
    "        \n",
    "        length = len(num1)\n",
    "        \n",
    "        num1 = int(num1)\n",
    "        num2 = int(num2)\n",
    "        \n",
    "        for i in range(num1 , num2+1):\n",
    "            j = i\n",
    "            j = str(j)\n",
    "            batesList.append(prefix1 + j.zfill(length))\n",
    "        return batesList\n"
   ]
  },
  {
   "cell_type": "code",
   "execution_count": 25,
   "metadata": {},
   "outputs": [
    {
     "name": "stdout",
     "output_type": "stream",
     "text": [
      "['bates-range00003', 'bates-range00004', 'bates-range00005', 'bates-range00006', 'bates-range00007', 'bates-range00008', 'bates-range00009', 'bates-range00010']\n",
      "bates-range00003\n",
      "bates-range00004\n",
      "bates-range00005\n",
      "bates-range00006\n",
      "bates-range00007\n",
      "bates-range00008\n",
      "bates-range00009\n",
      "bates-range00010\n",
      "['bates-range00025', 'bates-range00026', 'bates-range00027', 'bates-range00028', 'bates-range00029', 'bates-range00030', 'bates-range00031', 'bates-range00032', 'bates-range00033', 'bates-range00034', 'bates-range00035', 'bates-range00036', 'bates-range00037', 'bates-range00038', 'bates-range00039', 'bates-range00040', 'bates-range00041', 'bates-range00042', 'bates-range00043', 'bates-range00044', 'bates-range00045', 'bates-range00046', 'bates-range00047', 'bates-range00048', 'bates-range00049', 'bates-range00050', 'bates-range00051', 'bates-range00052', 'bates-range00053', 'bates-range00054', 'bates-range00055', 'bates-range00056', 'bates-range00057', 'bates-range00058', 'bates-range00059', 'bates-range00060', 'bates-range00061', 'bates-range00062', 'bates-range00063', 'bates-range00064', 'bates-range00065', 'bates-range00066', 'bates-range00067', 'bates-range00068', 'bates-range00069', 'bates-range00070', 'bates-range00071', 'bates-range00072', 'bates-range00073', 'bates-range00074', 'bates-range00075', 'bates-range00076', 'bates-range00077', 'bates-range00078', 'bates-range00079', 'bates-range00080', 'bates-range00081', 'bates-range00082', 'bates-range00083', 'bates-range00084', 'bates-range00085', 'bates-range00086', 'bates-range00087', 'bates-range00088', 'bates-range00089', 'bates-range00090', 'bates-range00091', 'bates-range00092', 'bates-range00093', 'bates-range00094', 'bates-range00095', 'bates-range00096', 'bates-range00097', 'bates-range00098', 'bates-range00099', 'bates-range00100', 'bates-range00101', 'bates-range00102', 'bates-range00103', 'bates-range00104', 'bates-range00105', 'bates-range00106', 'bates-range00107', 'bates-range00108', 'bates-range00109', 'bates-range00110', 'bates-range00111', 'bates-range00112', 'bates-range00113', 'bates-range00114', 'bates-range00115', 'bates-range00116', 'bates-range00117', 'bates-range00118', 'bates-range00119', 'bates-range00120', 'bates-range00121', 'bates-range00122', 'bates-range00123', 'bates-range00124', 'bates-range00125', 'bates-range00126', 'bates-range00127', 'bates-range00128', 'bates-range00129', 'bates-range00130', 'bates-range00131', 'bates-range00132', 'bates-range00133', 'bates-range00134', 'bates-range00135', 'bates-range00136', 'bates-range00137', 'bates-range00138', 'bates-range00139', 'bates-range00140', 'bates-range00141', 'bates-range00142', 'bates-range00143', 'bates-range00144', 'bates-range00145', 'bates-range00146', 'bates-range00147', 'bates-range00148', 'bates-range00149', 'bates-range00150', 'bates-range00151', 'bates-range00152', 'bates-range00153', 'bates-range00154', 'bates-range00155', 'bates-range00156', 'bates-range00157', 'bates-range00158', 'bates-range00159', 'bates-range00160', 'bates-range00161', 'bates-range00162', 'bates-range00163', 'bates-range00164', 'bates-range00165', 'bates-range00166', 'bates-range00167', 'bates-range00168', 'bates-range00169', 'bates-range00170', 'bates-range00171', 'bates-range00172', 'bates-range00173', 'bates-range00174', 'bates-range00175', 'bates-range00176', 'bates-range00177', 'bates-range00178', 'bates-range00179', 'bates-range00180', 'bates-range00181', 'bates-range00182', 'bates-range00183', 'bates-range00184', 'bates-range00185', 'bates-range00186', 'bates-range00187', 'bates-range00188', 'bates-range00189', 'bates-range00190', 'bates-range00191', 'bates-range00192', 'bates-range00193', 'bates-range00194', 'bates-range00195', 'bates-range00196', 'bates-range00197', 'bates-range00198', 'bates-range00199', 'bates-range00200']\n",
      "bates-range00025\n",
      "bates-range00026\n",
      "bates-range00027\n",
      "bates-range00028\n",
      "bates-range00029\n",
      "bates-range00030\n",
      "bates-range00031\n",
      "bates-range00032\n",
      "bates-range00033\n",
      "bates-range00034\n",
      "bates-range00035\n",
      "bates-range00036\n",
      "bates-range00037\n",
      "bates-range00038\n",
      "bates-range00039\n",
      "bates-range00040\n",
      "bates-range00041\n",
      "bates-range00042\n",
      "bates-range00043\n",
      "bates-range00044\n",
      "bates-range00045\n",
      "bates-range00046\n",
      "bates-range00047\n",
      "bates-range00048\n",
      "bates-range00049\n",
      "bates-range00050\n",
      "bates-range00051\n",
      "bates-range00052\n",
      "bates-range00053\n",
      "bates-range00054\n",
      "bates-range00055\n",
      "bates-range00056\n",
      "bates-range00057\n",
      "bates-range00058\n",
      "bates-range00059\n",
      "bates-range00060\n",
      "bates-range00061\n",
      "bates-range00062\n",
      "bates-range00063\n",
      "bates-range00064\n",
      "bates-range00065\n",
      "bates-range00066\n",
      "bates-range00067\n",
      "bates-range00068\n",
      "bates-range00069\n",
      "bates-range00070\n",
      "bates-range00071\n",
      "bates-range00072\n",
      "bates-range00073\n",
      "bates-range00074\n",
      "bates-range00075\n",
      "bates-range00076\n",
      "bates-range00077\n",
      "bates-range00078\n",
      "bates-range00079\n",
      "bates-range00080\n",
      "bates-range00081\n",
      "bates-range00082\n",
      "bates-range00083\n",
      "bates-range00084\n",
      "bates-range00085\n",
      "bates-range00086\n",
      "bates-range00087\n",
      "bates-range00088\n",
      "bates-range00089\n",
      "bates-range00090\n",
      "bates-range00091\n",
      "bates-range00092\n",
      "bates-range00093\n",
      "bates-range00094\n",
      "bates-range00095\n",
      "bates-range00096\n",
      "bates-range00097\n",
      "bates-range00098\n",
      "bates-range00099\n",
      "bates-range00100\n",
      "bates-range00101\n",
      "bates-range00102\n",
      "bates-range00103\n",
      "bates-range00104\n",
      "bates-range00105\n",
      "bates-range00106\n",
      "bates-range00107\n",
      "bates-range00108\n",
      "bates-range00109\n",
      "bates-range00110\n",
      "bates-range00111\n",
      "bates-range00112\n",
      "bates-range00113\n",
      "bates-range00114\n",
      "bates-range00115\n",
      "bates-range00116\n",
      "bates-range00117\n",
      "bates-range00118\n",
      "bates-range00119\n",
      "bates-range00120\n",
      "bates-range00121\n",
      "bates-range00122\n",
      "bates-range00123\n",
      "bates-range00124\n",
      "bates-range00125\n",
      "bates-range00126\n",
      "bates-range00127\n",
      "bates-range00128\n",
      "bates-range00129\n",
      "bates-range00130\n",
      "bates-range00131\n",
      "bates-range00132\n",
      "bates-range00133\n",
      "bates-range00134\n",
      "bates-range00135\n",
      "bates-range00136\n",
      "bates-range00137\n",
      "bates-range00138\n",
      "bates-range00139\n",
      "bates-range00140\n",
      "bates-range00141\n",
      "bates-range00142\n",
      "bates-range00143\n",
      "bates-range00144\n",
      "bates-range00145\n",
      "bates-range00146\n",
      "bates-range00147\n",
      "bates-range00148\n",
      "bates-range00149\n",
      "bates-range00150\n",
      "bates-range00151\n",
      "bates-range00152\n",
      "bates-range00153\n",
      "bates-range00154\n",
      "bates-range00155\n",
      "bates-range00156\n",
      "bates-range00157\n",
      "bates-range00158\n",
      "bates-range00159\n",
      "bates-range00160\n",
      "bates-range00161\n",
      "bates-range00162\n",
      "bates-range00163\n",
      "bates-range00164\n",
      "bates-range00165\n",
      "bates-range00166\n",
      "bates-range00167\n",
      "bates-range00168\n",
      "bates-range00169\n",
      "bates-range00170\n",
      "bates-range00171\n",
      "bates-range00172\n",
      "bates-range00173\n",
      "bates-range00174\n",
      "bates-range00175\n",
      "bates-range00176\n",
      "bates-range00177\n",
      "bates-range00178\n",
      "bates-range00179\n",
      "bates-range00180\n",
      "bates-range00181\n",
      "bates-range00182\n",
      "bates-range00183\n",
      "bates-range00184\n",
      "bates-range00185\n",
      "bates-range00186\n",
      "bates-range00187\n",
      "bates-range00188\n",
      "bates-range00189\n",
      "bates-range00190\n",
      "bates-range00191\n",
      "bates-range00192\n",
      "bates-range00193\n",
      "bates-range00194\n",
      "bates-range00195\n",
      "bates-range00196\n",
      "bates-range00197\n",
      "bates-range00198\n",
      "bates-range00199\n",
      "bates-range00200\n"
     ]
    }
   ],
   "source": [
    "cwd = os.getcwd()\n",
    "INPUT_FOLDER = 'Raw_Bates_Numbers'\n",
    "OUTPUT_FOLDER = 'Final_Bates_List'\n",
    "\n",
    "INPUT_FILE = 'inputFile.csv'\n",
    "OUTPUT_FILE = 'outputFile.csv'\n",
    "\n",
    "INPUT_PATH = os.path.join(cwd , INPUT_FOLDER , INPUT_FILE)\n",
    "OUTPUT_PATH = os.path.join(cwd , OUTPUT_FOLDER , OUTPUT_FILE)\n",
    "\n",
    "tempList = []\n",
    "\n",
    "output = open(OUTPUT_PATH, 'w' , newline = '')\n",
    "wr = csv.writer(output, quoting=csv.QUOTE_ALL )\n",
    "    \n",
    "    \n",
    "#Reading from a CSV\n",
    "with open(INPUT_PATH) as csv_file:\n",
    "    csv_reader = csv.reader(csv_file, delimiter=',')\n",
    "    for row in csv_reader:\n",
    "        if (check_for_dashes(row) == 0):\n",
    "            wr.writerow(row)\n",
    "        else:\n",
    "            row = ''.join(row)\n",
    "            tempList = create_bates_list(row)\n",
    "            print(tempList)\n",
    "            for i in tempList:\n",
    "                print(i)\n",
    "                wr.writerow([i])\n",
    "\n",
    "output.close()\n"
   ]
  },
  {
   "cell_type": "code",
   "execution_count": 40,
   "metadata": {},
   "outputs": [],
   "source": [
    "#logic to store bates prefixes and digit numbers in dictionary with bates prefixes as the keys\n",
    "batesNumSpecs = {}\n"
   ]
  },
  {
   "cell_type": "code",
   "execution_count": 41,
   "metadata": {},
   "outputs": [
    {
     "name": "stdout",
     "output_type": "stream",
     "text": [
      "('Bate-Range00000500', 'Bate-Range00000700')\n"
     ]
    }
   ],
   "source": [
    "print(split_range(testRange2))\n",
    "\n"
   ]
  },
  {
   "cell_type": "code",
   "execution_count": 42,
   "metadata": {},
   "outputs": [
    {
     "name": "stdout",
     "output_type": "stream",
     "text": [
      "1\n"
     ]
    }
   ],
   "source": [
    "x = \"00001\"\n",
    "x = int(x)\n",
    "print(x)"
   ]
  },
  {
   "cell_type": "code",
   "execution_count": 43,
   "metadata": {},
   "outputs": [
    {
     "name": "stdout",
     "output_type": "stream",
     "text": [
      "bates0001\n"
     ]
    }
   ],
   "source": [
    "test = \"bates\"\n",
    "y = \"1\"\n",
    "\n",
    "new = test + y.zfill(4)\n",
    "\n",
    "print(new)"
   ]
  },
  {
   "cell_type": "code",
   "execution_count": null,
   "metadata": {},
   "outputs": [],
   "source": []
  }
 ],
 "metadata": {
  "kernelspec": {
   "display_name": "Python 3",
   "language": "python",
   "name": "python3"
  },
  "language_info": {
   "codemirror_mode": {
    "name": "ipython",
    "version": 3
   },
   "file_extension": ".py",
   "mimetype": "text/x-python",
   "name": "python",
   "nbconvert_exporter": "python",
   "pygments_lexer": "ipython3",
   "version": "3.7.1"
  }
 },
 "nbformat": 4,
 "nbformat_minor": 2
}
