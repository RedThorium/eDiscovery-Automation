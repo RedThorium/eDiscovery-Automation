{
 "cells": [
  {
   "cell_type": "code",
   "execution_count": 2,
   "metadata": {},
   "outputs": [],
   "source": [
    "# This Python 3 environment comes with many helpful analytics libraries installed\n",
    "# It is defined by the kaggle/python docker image: https://github.com/kaggle/docker-python\n",
    "# For example, here's several helpful packages to load in \n",
    "\n",
    "import numpy as np # linear algebra\n",
    "import pandas as pd # data processing, CSV file I/O (e.g. pd.read_csv)\n",
    "import matplotlib.pyplot as plt\n",
    "import seaborn as sns\n",
    "from collections import Counter\n",
    "import csv\n",
    "\n",
    "from collections import Counter\n",
    "\n",
    "# Input data files are available in the \"../input/\" directory.\n",
    "# For example, running this (by clicking run or pressing Shift+Enter) will list the files in the input directory\n"
   ]
  },
  {
   "cell_type": "code",
   "execution_count": 3,
   "metadata": {},
   "outputs": [],
   "source": [
    "testBates1 = \"Bates000000001\"\n",
    "testRange1 = \"Bates000000045-Bates00000090\"\n",
    "testBates2 = \"Bate-Range00000300\"\n",
    "testRange2 = \"Bate-Range00000500-Bate-Range00000700\""
   ]
  },
  {
   "cell_type": "code",
   "execution_count": 15,
   "metadata": {},
   "outputs": [
    {
     "name": "stdout",
     "output_type": "stream",
     "text": [
      "Bates000000001\n",
      "Bates\n",
      "000000001\n"
     ]
    }
   ],
   "source": [
    "print(testBates1)\n",
    "exampleBates = str(testBates1)\n",
    "\n",
    "prefix = \"\"\n",
    "number = \"\"\n",
    "\n",
    "for i in exampleBates:\n",
    "  if(i.isdigit()!= True):\n",
    "    prefix = prefix + i\n",
    "  else:\n",
    "    number = number + i\n",
    "    \n",
    "print(prefix)\n",
    "print(number)\n",
    "     "
   ]
  },
  {
   "cell_type": "code",
   "execution_count": 13,
   "metadata": {},
   "outputs": [
    {
     "name": "stdout",
     "output_type": "stream",
     "text": [
      "1\n",
      "True\n"
     ]
    }
   ],
   "source": [
    "x = \"1\"\n",
    "print (x)\n",
    "\n",
    "y = x.isdigit()\n",
    "\n",
    "print(y)"
   ]
  },
  {
   "cell_type": "code",
   "execution_count": null,
   "metadata": {},
   "outputs": [],
   "source": [
    "#function splits bates number into prefix and number\n",
    "def split_bates(batesNumber):\n",
    "    batesNumber = str(batesNumber)\n",
    "    prefix = \"\"\n",
    "    number = \"\"\n",
    "    \n",
    "    for i in exampleBates:\n",
    "      if(i.isdigit()!= True):\n",
    "        prefix = prefix + i\n",
    "      else:\n",
    "        number = number + i\n",
    "        \n",
    "    return prefix , number\n",
    "\n",
    "def check_for_range(batesNumber):\n",
    "    batesNumber = str(batesNumber)\n",
    "    counter = Counter(batesNumber)\n",
    "    if (counter('-') == 0)\n",
    "    return\n",
    "\n"
   ]
  }
 ],
 "metadata": {
  "kernelspec": {
   "display_name": "Python 3",
   "language": "python",
   "name": "python3"
  },
  "language_info": {
   "codemirror_mode": {
    "name": "ipython",
    "version": 3
   },
   "file_extension": ".py",
   "mimetype": "text/x-python",
   "name": "python",
   "nbconvert_exporter": "python",
   "pygments_lexer": "ipython3",
   "version": "3.6.8"
  }
 },
 "nbformat": 4,
 "nbformat_minor": 2
}
