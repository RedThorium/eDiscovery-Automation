{
 "cells": [
  {
   "cell_type": "code",
   "execution_count": 24,
   "metadata": {},
   "outputs": [],
   "source": [
    "# This Python 3 environment comes with many helpful analytics libraries installed\n",
    "# It is defined by the kaggle/python docker image: https://github.com/kaggle/docker-python\n",
    "# For example, here's several helpful packages to load in \n",
    "\n",
    "import numpy as np # linear algebra\n",
    "import pandas as pd # data processing, CSV file I/O (e.g. pd.read_csv)\n",
    "import matplotlib.pyplot as plt\n",
    "import seaborn as sns\n",
    "from collections import Counter\n",
    "import csv\n",
    "\n",
    "\n",
    "# Input data files are available in the \"../input/\" directory.\n",
    "# For example, running this (by clicking run or pressing Shift+Enter) will list the files in the input directory\n"
   ]
  },
  {
   "cell_type": "markdown",
   "metadata": {},
   "source": [
    "Outline \n",
    "\n",
    "- Script should be able to take in bates numbers and bates ranges and return a list of bates numbers that contain all of the bates nubmers of the pages of each of the ranges and indvidual bates numbers\n",
    "\n",
    "- The Script should be able to handle bates prefixes with \"-\" , \"_\" and spaces \n",
    "\n",
    "-  Difficult case will be one where there is a range with bates prefixes that contain \"-\" because there at least three \"-\" that will prevent the bates range from being split along the \"-\"\n",
    "\n",
    "- The script should take in a list of bates numbers and bates ranges from a csv and write out a list of bates numbers that contain all of the bates nubmers of the pages of each of the ranges and indvidual bates numbers to a different csv\n",
    "\n",
    "Functions \n",
    "\n",
    "- split_bates - splits bates number into prefix and number\n"
   ]
  },
  {
   "cell_type": "code",
   "execution_count": 3,
   "metadata": {},
   "outputs": [],
   "source": [
    "testBates1 = \"Bates000000001\"\n",
    "testRange1 = \"Bates000000045-Bates00000090\"\n",
    "testBates2 = \"Bate-Range00000300\"\n",
    "testRange2 = \"Bate-Range00000500-Bate-Range00000700\""
   ]
  },
  {
   "cell_type": "code",
   "execution_count": 15,
   "metadata": {},
   "outputs": [
    {
     "name": "stdout",
     "output_type": "stream",
     "text": [
      "Bates000000001\n",
      "Bates\n",
      "000000001\n"
     ]
    }
   ],
   "source": [
    "print(testBates1)\n",
    "exampleBates = str(testBates1)\n",
    "\n",
    "prefix = \"\"\n",
    "number = \"\"\n",
    "\n",
    "for i in exampleBates:\n",
    "  if(i.isdigit()!= True):\n",
    "    prefix = prefix + i\n",
    "  else:\n",
    "    number = number + i\n",
    "    \n",
    "print(prefix)\n",
    "print(number)\n",
    "     "
   ]
  },
  {
   "cell_type": "code",
   "execution_count": 13,
   "metadata": {},
   "outputs": [
    {
     "name": "stdout",
     "output_type": "stream",
     "text": [
      "1\n",
      "True\n"
     ]
    }
   ],
   "source": [
    "x = \"1\"\n",
    "print (x)\n",
    "\n",
    "y = x.isdigit()\n",
    "\n",
    "print(y)"
   ]
  },
  {
   "cell_type": "code",
   "execution_count": 22,
   "metadata": {},
   "outputs": [],
   "source": [
    "#function splits bates number into prefix and number\n",
    "def split_bates(batesNumber):\n",
    "    batesNumber = str(batesNumber)\n",
    "    prefix = \"\"\n",
    "    number = \"\"\n",
    "    \n",
    "    for i in batesNumber:\n",
    "      if(i.isdigit()!= True):\n",
    "        prefix = prefix + i\n",
    "      else:\n",
    "        number = number + i\n",
    "        \n",
    "    return prefix , number"
   ]
  },
  {
   "cell_type": "code",
   "execution_count": 23,
   "metadata": {},
   "outputs": [
    {
     "name": "stdout",
     "output_type": "stream",
     "text": [
      "Bates-Bates\n",
      "00000004500000090\n"
     ]
    }
   ],
   "source": [
    "prefix1 , number1 = split_bates(testRange1)\n",
    "print(prefix1)\n",
    "print(number1)"
   ]
  },
  {
   "cell_type": "code",
   "execution_count": 39,
   "metadata": {},
   "outputs": [],
   "source": [
    "#function splits bates number into prefix and number\n",
    "def split_bates(batesNumber):\n",
    "    batesNumber = str(batesNumber)\n",
    "    prefix = \"\"\n",
    "    number = \"\"\n",
    "    \n",
    "    for i in batesNumber:\n",
    "      if(i.isdigit()!= True):\n",
    "        prefix = prefix + i\n",
    "      else:\n",
    "        number = number + i\n",
    "        \n",
    "    return prefix , number\n",
    "\n",
    "def check_for_dashes(batesNumber):\n",
    "    batesNumber = str(batesNumber)\n",
    "    counter = Counter(batesNumber)\n",
    "    return counter['-']\n",
    "\n",
    "#splits bates ranges \n",
    "def split_range(batesRange):\n",
    "    batesRange = str(batesRange)\n",
    "    batesNum1 = \"\"\n",
    "    batesNum2 = \"\"\n",
    "    \n",
    "    #condition if bates range only has one \"-\"\n",
    "    if (check_for_dashes(batesRange) == 1):\n",
    "        batesNum1 , batesNum2 = batesRange.split(\"-\")\n",
    "\n",
    "    #condition if bates range has three \"-\"\n",
    "    elif(check_for_dashes(batesRange) == 3):\n",
    "        prefix1 , num1 , prefix2 , num2 = batesRange.split(\"-\")\n",
    "        batesNum1 = prefix1 + \"-\" + num1\n",
    "        batesNum2 = prefix2 + \"-\" + num2\n",
    "    \n",
    "    #Stripping whitespaces from before and after the bates numbers\n",
    "    batesNum1 = batesNum1.strip()\n",
    "    batesNum2 = batesNum2.strip()\n",
    "    return batesNum1 , batesNum2\n",
    "         \n",
    "def create_bates_list(bates):\n",
    "    \n",
    "\n",
    "\n"
   ]
  },
  {
   "cell_type": "code",
   "execution_count": 40,
   "metadata": {},
   "outputs": [],
   "source": [
    "#logic to store bates prefixes and digit numbers in dictionary with bates prefixes as the keys\n",
    "batesNumSpecs = {}\n"
   ]
  },
  {
   "cell_type": "code",
   "execution_count": 41,
   "metadata": {},
   "outputs": [
    {
     "name": "stdout",
     "output_type": "stream",
     "text": [
      "('Bate-Range00000500', 'Bate-Range00000700')\n"
     ]
    }
   ],
   "source": [
    "print(split_range(testRange2))\n",
    "\n"
   ]
  },
  {
   "cell_type": "code",
   "execution_count": null,
   "metadata": {},
   "outputs": [],
   "source": []
  }
 ],
 "metadata": {
  "kernelspec": {
   "display_name": "Python 3",
   "language": "python",
   "name": "python3"
  },
  "language_info": {
   "codemirror_mode": {
    "name": "ipython",
    "version": 3
   },
   "file_extension": ".py",
   "mimetype": "text/x-python",
   "name": "python",
   "nbconvert_exporter": "python",
   "pygments_lexer": "ipython3",
   "version": "3.6.8"
  }
 },
 "nbformat": 4,
 "nbformat_minor": 2
}
