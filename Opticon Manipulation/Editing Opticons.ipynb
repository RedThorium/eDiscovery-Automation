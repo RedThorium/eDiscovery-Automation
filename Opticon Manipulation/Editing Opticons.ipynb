{
 "cells": [
  {
   "cell_type": "code",
   "execution_count": 1,
   "metadata": {},
   "outputs": [],
   "source": [
    "# This Python 3 environment comes with many helpful analytics libraries installed\n",
    "# It is defined by the kaggle/python docker image: https://github.com/kaggle/docker-python\n",
    "# For example, here's several helpful packages to load in \n",
    "\n",
    "import numpy as np # linear algebra\n",
    "import pandas as pd # data processing, CSV file I/O (e.g. pd.read_csv)\n",
    "import matplotlib.pyplot as plt\n",
    "import seaborn as sns\n",
    "from collections import Counter\n",
    "import csv\n",
    "\n",
    "# Input data files are available in the \"../input/\" directory.\n",
    "# For example, running this (by clicking run or pressing Shift+Enter) will list the files in the input directory\n"
   ]
  },
  {
   "cell_type": "code",
   "execution_count": 5,
   "metadata": {},
   "outputs": [
    {
     "ename": "TypeError",
     "evalue": "parser_f() got an unexpected keyword argument 'headers'",
     "output_type": "error",
     "traceback": [
      "\u001b[1;31m---------------------------------------------------------------------------\u001b[0m",
      "\u001b[1;31mTypeError\u001b[0m                                 Traceback (most recent call last)",
      "\u001b[1;32m<ipython-input-5-1b9efa887600>\u001b[0m in \u001b[0;36m<module>\u001b[1;34m\u001b[0m\n\u001b[1;32m----> 1\u001b[1;33m \u001b[0moptData\u001b[0m \u001b[1;33m=\u001b[0m \u001b[0mpd\u001b[0m\u001b[1;33m.\u001b[0m\u001b[0mread_csv\u001b[0m\u001b[1;33m(\u001b[0m\u001b[1;34m'PROD001.OPT'\u001b[0m\u001b[1;33m,\u001b[0m \u001b[0mheaders\u001b[0m \u001b[1;33m=\u001b[0m \u001b[1;33m[\u001b[0m\u001b[1;34m'Page_Identifier'\u001b[0m\u001b[1;33m,\u001b[0m\u001b[1;34m'Volume_Identifier'\u001b[0m\u001b[1;33m,\u001b[0m \u001b[1;34m'Path_To_Image'\u001b[0m\u001b[1;33m,\u001b[0m \u001b[1;34m'Is_First_Page'\u001b[0m\u001b[1;33m,\u001b[0m\u001b[1;34m'Null1'\u001b[0m\u001b[1;33m,\u001b[0m \u001b[1;34m'Null2'\u001b[0m\u001b[1;33m,\u001b[0m\u001b[1;34m'Page_Count'\u001b[0m\u001b[1;33m]\u001b[0m\u001b[1;33m)\u001b[0m\u001b[1;33m\u001b[0m\u001b[1;33m\u001b[0m\u001b[0m\n\u001b[0m",
      "\u001b[1;31mTypeError\u001b[0m: parser_f() got an unexpected keyword argument 'headers'"
     ]
    }
   ],
   "source": [
    "optData = pd.read_csv('PROD001.OPT', headers = ['Page_Identifier','Volume_Identifier', 'Path_To_Image', 'Is_First_Page','Null1', 'Null2','Page_Count'])"
   ]
  },
  {
   "cell_type": "code",
   "execution_count": 4,
   "metadata": {},
   "outputs": [
    {
     "data": {
      "text/html": [
       "<div>\n",
       "<style scoped>\n",
       "    .dataframe tbody tr th:only-of-type {\n",
       "        vertical-align: middle;\n",
       "    }\n",
       "\n",
       "    .dataframe tbody tr th {\n",
       "        vertical-align: top;\n",
       "    }\n",
       "\n",
       "    .dataframe thead th {\n",
       "        text-align: right;\n",
       "    }\n",
       "</style>\n",
       "<table border=\"1\" class=\"dataframe\">\n",
       "  <thead>\n",
       "    <tr style=\"text-align: right;\">\n",
       "      <th></th>\n",
       "      <th>PROD00000001</th>\n",
       "      <th>PROD001</th>\n",
       "      <th>IMAGES\\IMG001\\PROD00000001.tif</th>\n",
       "      <th>Y</th>\n",
       "      <th>Unnamed: 4</th>\n",
       "      <th>Unnamed: 5</th>\n",
       "      <th>2</th>\n",
       "    </tr>\n",
       "  </thead>\n",
       "  <tbody>\n",
       "    <tr>\n",
       "      <th>0</th>\n",
       "      <td>PROD00000002</td>\n",
       "      <td>PROD001</td>\n",
       "      <td>IMAGES\\IMG001\\PROD00000002.tif</td>\n",
       "      <td>NaN</td>\n",
       "      <td>NaN</td>\n",
       "      <td>NaN</td>\n",
       "      <td>NaN</td>\n",
       "    </tr>\n",
       "    <tr>\n",
       "      <th>1</th>\n",
       "      <td>PROD00000003</td>\n",
       "      <td>PROD001</td>\n",
       "      <td>IMAGES\\IMG001\\PROD00000003.tif</td>\n",
       "      <td>Y</td>\n",
       "      <td>NaN</td>\n",
       "      <td>NaN</td>\n",
       "      <td>7.0</td>\n",
       "    </tr>\n",
       "    <tr>\n",
       "      <th>2</th>\n",
       "      <td>PROD00000004</td>\n",
       "      <td>PROD001</td>\n",
       "      <td>IMAGES\\IMG001\\PROD00000004.tif</td>\n",
       "      <td>NaN</td>\n",
       "      <td>NaN</td>\n",
       "      <td>NaN</td>\n",
       "      <td>NaN</td>\n",
       "    </tr>\n",
       "    <tr>\n",
       "      <th>3</th>\n",
       "      <td>PROD00000005</td>\n",
       "      <td>PROD001</td>\n",
       "      <td>IMAGES\\IMG001\\PROD00000005.tif</td>\n",
       "      <td>NaN</td>\n",
       "      <td>NaN</td>\n",
       "      <td>NaN</td>\n",
       "      <td>NaN</td>\n",
       "    </tr>\n",
       "    <tr>\n",
       "      <th>4</th>\n",
       "      <td>PROD00000006</td>\n",
       "      <td>PROD001</td>\n",
       "      <td>IMAGES\\IMG001\\PROD00000006.tif</td>\n",
       "      <td>NaN</td>\n",
       "      <td>NaN</td>\n",
       "      <td>NaN</td>\n",
       "      <td>NaN</td>\n",
       "    </tr>\n",
       "  </tbody>\n",
       "</table>\n",
       "</div>"
      ],
      "text/plain": [
       "   PROD00000001  PROD001  IMAGES\\IMG001\\PROD00000001.tif    Y  Unnamed: 4  \\\n",
       "0  PROD00000002  PROD001  IMAGES\\IMG001\\PROD00000002.tif  NaN         NaN   \n",
       "1  PROD00000003  PROD001  IMAGES\\IMG001\\PROD00000003.tif    Y         NaN   \n",
       "2  PROD00000004  PROD001  IMAGES\\IMG001\\PROD00000004.tif  NaN         NaN   \n",
       "3  PROD00000005  PROD001  IMAGES\\IMG001\\PROD00000005.tif  NaN         NaN   \n",
       "4  PROD00000006  PROD001  IMAGES\\IMG001\\PROD00000006.tif  NaN         NaN   \n",
       "\n",
       "   Unnamed: 5    2  \n",
       "0         NaN  NaN  \n",
       "1         NaN  7.0  \n",
       "2         NaN  NaN  \n",
       "3         NaN  NaN  \n",
       "4         NaN  NaN  "
      ]
     },
     "execution_count": 4,
     "metadata": {},
     "output_type": "execute_result"
    }
   ],
   "source": []
  },
  {
   "cell_type": "code",
   "execution_count": null,
   "metadata": {},
   "outputs": [],
   "source": []
  }
 ],
 "metadata": {
  "kernelspec": {
   "display_name": "Python 3",
   "language": "python",
   "name": "python3"
  },
  "language_info": {
   "codemirror_mode": {
    "name": "ipython",
    "version": 3
   },
   "file_extension": ".py",
   "mimetype": "text/x-python",
   "name": "python",
   "nbconvert_exporter": "python",
   "pygments_lexer": "ipython3",
   "version": "3.6.8"
  }
 },
 "nbformat": 4,
 "nbformat_minor": 2
}
