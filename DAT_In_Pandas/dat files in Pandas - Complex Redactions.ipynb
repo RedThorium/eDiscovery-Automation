{
 "cells": [
  {
   "cell_type": "code",
   "execution_count": 2,
   "metadata": {},
   "outputs": [],
   "source": [
    "# This Python 3 environment comes with many helpful analytics libraries installed\n",
    "# It is defined by the kaggle/python docker image: https://github.com/kaggle/docker-python\n",
    "# For example, here's several helpful packages to load in \n",
    "\n",
    "import numpy as np # linear algebra\n",
    "import pandas as pd # data processing, CSV file I/O (e.g. pd.read_csv)\n",
    "import matplotlib.pyplot as plt\n",
    "import seaborn as sns\n",
    "from collections import Counter\n",
    "import csv\n",
    "\n",
    "# Input data files are available in the \"../input/\" directory.\n",
    "# For example, running this (by clicking run or pressing Shift+Enter) will list the files in the input directory\n",
    "\n"
   ]
  },
  {
   "cell_type": "code",
   "execution_count": 7,
   "metadata": {},
   "outputs": [],
   "source": [
    "# Let's read our data and analyzing it\n",
    "datData = pd.read_table(\"ScrubTest.DAT\", delimiter='\u0014', quotechar='þ' , engine='python' , encoding='utf-8-sig')"
   ]
  },
  {
   "cell_type": "markdown",
   "metadata": {},
   "source": [
    "https://pandas.pydata.org/pandas-docs/stable/generated/pandas.read_table.html\n",
    "\n",
    "using pandas documentation to fix the delimeters \n",
    "\n",
    "for some reason the python engine cannot understand the þ character and replaces it with Ã¾ "
   ]
  },
  {
   "cell_type": "code",
   "execution_count": 8,
   "metadata": {},
   "outputs": [
    {
     "data": {
      "text/plain": [
       "(4, 11)"
      ]
     },
     "execution_count": 8,
     "metadata": {},
     "output_type": "execute_result"
    }
   ],
   "source": [
    "datData.shape"
   ]
  },
  {
   "cell_type": "code",
   "execution_count": 9,
   "metadata": {},
   "outputs": [
    {
     "data": {
      "text/plain": [
       "Index(['BegDoc ', 'EndDoc', 'BegAttach', 'EndAttach', 'To ', 'From', 'CC',\n",
       "       'BCC', 'Filename ', 'Crap', 'Shit '],\n",
       "      dtype='object')"
      ]
     },
     "execution_count": 9,
     "metadata": {},
     "output_type": "execute_result"
    }
   ],
   "source": [
    "datData.columns"
   ]
  },
  {
   "cell_type": "code",
   "execution_count": 10,
   "metadata": {},
   "outputs": [
    {
     "data": {
      "text/html": [
       "<div>\n",
       "<style scoped>\n",
       "    .dataframe tbody tr th:only-of-type {\n",
       "        vertical-align: middle;\n",
       "    }\n",
       "\n",
       "    .dataframe tbody tr th {\n",
       "        vertical-align: top;\n",
       "    }\n",
       "\n",
       "    .dataframe thead th {\n",
       "        text-align: right;\n",
       "    }\n",
       "</style>\n",
       "<table border=\"1\" class=\"dataframe\">\n",
       "  <thead>\n",
       "    <tr style=\"text-align: right;\">\n",
       "      <th></th>\n",
       "      <th>BegDoc</th>\n",
       "      <th>EndDoc</th>\n",
       "      <th>BegAttach</th>\n",
       "      <th>EndAttach</th>\n",
       "      <th>To</th>\n",
       "      <th>From</th>\n",
       "      <th>CC</th>\n",
       "      <th>BCC</th>\n",
       "      <th>Filename</th>\n",
       "      <th>Crap</th>\n",
       "      <th>Shit</th>\n",
       "    </tr>\n",
       "  </thead>\n",
       "  <tbody>\n",
       "    <tr>\n",
       "      <th>0</th>\n",
       "      <td>BATES001</td>\n",
       "      <td>BATES002</td>\n",
       "      <td>BATES001</td>\n",
       "      <td>BATES004</td>\n",
       "      <td>sam@target.com , bill@ok.com</td>\n",
       "      <td>greg@ok.com</td>\n",
       "      <td>NaN</td>\n",
       "      <td>NaN</td>\n",
       "      <td>target corp.msg</td>\n",
       "      <td>unwanted</td>\n",
       "      <td>rubish</td>\n",
       "    </tr>\n",
       "    <tr>\n",
       "      <th>1</th>\n",
       "      <td>BATES003</td>\n",
       "      <td>BATES004</td>\n",
       "      <td>BATES001</td>\n",
       "      <td>BATES004</td>\n",
       "      <td>felix@targetCorp.com , rajul@okcorp.com ,</td>\n",
       "      <td>phil@target2.com</td>\n",
       "      <td>NaN</td>\n",
       "      <td>NaN</td>\n",
       "      <td>ok corp.xlsx</td>\n",
       "      <td>not needed</td>\n",
       "      <td>lovable</td>\n",
       "    </tr>\n",
       "    <tr>\n",
       "      <th>2</th>\n",
       "      <td>BATES005</td>\n",
       "      <td>BATES010</td>\n",
       "      <td>BATES005</td>\n",
       "      <td>BATES010</td>\n",
       "      <td>jannie@targeter.com , nick@ok.com</td>\n",
       "      <td>greg@ok.com</td>\n",
       "      <td>NaN</td>\n",
       "      <td>NaN</td>\n",
       "      <td>target corp.msg</td>\n",
       "      <td>keeper</td>\n",
       "      <td>fine</td>\n",
       "    </tr>\n",
       "    <tr>\n",
       "      <th>3</th>\n",
       "      <td>BATES011</td>\n",
       "      <td>BATES012</td>\n",
       "      <td>BATES011</td>\n",
       "      <td>BATES012</td>\n",
       "      <td>felix@target2Corp.com , rajul@TARcorp.com ,</td>\n",
       "      <td>phil@target2.com</td>\n",
       "      <td>NaN</td>\n",
       "      <td>NaN</td>\n",
       "      <td>ok corp.xlsx</td>\n",
       "      <td>undesirable</td>\n",
       "      <td>passable</td>\n",
       "    </tr>\n",
       "  </tbody>\n",
       "</table>\n",
       "</div>"
      ],
      "text/plain": [
       "    BegDoc     EndDoc BegAttach EndAttach  \\\n",
       "0  BATES001  BATES002  BATES001  BATES004   \n",
       "1  BATES003  BATES004  BATES001  BATES004   \n",
       "2  BATES005  BATES010  BATES005  BATES010   \n",
       "3  BATES011  BATES012  BATES011  BATES012   \n",
       "\n",
       "                                            To               From  CC  BCC  \\\n",
       "0                  sam@target.com , bill@ok.com       greg@ok.com NaN  NaN   \n",
       "1    felix@targetCorp.com , rajul@okcorp.com ,   phil@target2.com NaN  NaN   \n",
       "2             jannie@targeter.com , nick@ok.com       greg@ok.com NaN  NaN   \n",
       "3  felix@target2Corp.com , rajul@TARcorp.com ,   phil@target2.com NaN  NaN   \n",
       "\n",
       "         Filename           Crap     Shit   \n",
       "0  target corp.msg     unwanted     rubish  \n",
       "1     ok corp.xlsx   not needed   lovable   \n",
       "2  target corp.msg        keeper      fine  \n",
       "3     ok corp.xlsx  undesirable   passable  "
      ]
     },
     "execution_count": 10,
     "metadata": {},
     "output_type": "execute_result"
    }
   ],
   "source": [
    "datData.head(5)"
   ]
  },
  {
   "cell_type": "code",
   "execution_count": 109,
   "metadata": {},
   "outputs": [
    {
     "name": "stdout",
     "output_type": "stream",
     "text": [
      "stuff\n",
      "stuffSUMMATIONstuff\n",
      "stuffstuffNOITAMMUSSUM\n",
      "nothing\n"
     ]
    }
   ],
   "source": [
    "test = 'SUMMATIONstuffNOITAMMUS'\n",
    "test2 = 'SUMMATIONstuffSUMMATIONstuffNOITAMMUSSUM'\n",
    "test3 = 'SUMnothing'\n",
    "\n",
    "test = test.strip('SUMMATION')\n",
    "\n",
    "print(test)\n",
    "\n",
    "print(test2.strip('SUMMATION'))\n",
    "\n",
    "print(test2.replace('SUMMATION' , ''))\n",
    "\n",
    "print(test3.strip('SUMMATION'))"
   ]
  },
  {
   "cell_type": "markdown",
   "metadata": {},
   "source": [
    "## Complex Scrubbing Test ##"
   ]
  },
  {
   "cell_type": "code",
   "execution_count": 74,
   "metadata": {},
   "outputs": [],
   "source": [
    "replaceList= ['unwanted','not needed','undesirable','rubish', 'rajul@okcorp.com']\n",
    "\n",
    "testDAT = datData.replace(replaceList, '', regex=True)"
   ]
  },
  {
   "cell_type": "code",
   "execution_count": 75,
   "metadata": {},
   "outputs": [
    {
     "data": {
      "text/plain": [
       "' '"
      ]
     },
     "execution_count": 75,
     "metadata": {},
     "output_type": "execute_result"
    }
   ],
   "source": [
    "testDAT.at[3,'Crap']"
   ]
  },
  {
   "cell_type": "code",
   "execution_count": 76,
   "metadata": {},
   "outputs": [
    {
     "data": {
      "text/html": [
       "<div>\n",
       "<style scoped>\n",
       "    .dataframe tbody tr th:only-of-type {\n",
       "        vertical-align: middle;\n",
       "    }\n",
       "\n",
       "    .dataframe tbody tr th {\n",
       "        vertical-align: top;\n",
       "    }\n",
       "\n",
       "    .dataframe thead th {\n",
       "        text-align: right;\n",
       "    }\n",
       "</style>\n",
       "<table border=\"1\" class=\"dataframe\">\n",
       "  <thead>\n",
       "    <tr style=\"text-align: right;\">\n",
       "      <th></th>\n",
       "      <th>BegDoc</th>\n",
       "      <th>EndDoc</th>\n",
       "      <th>BegAttach</th>\n",
       "      <th>EndAttach</th>\n",
       "      <th>To</th>\n",
       "      <th>From</th>\n",
       "      <th>CC</th>\n",
       "      <th>BCC</th>\n",
       "      <th>Filename</th>\n",
       "      <th>Crap</th>\n",
       "      <th>Shit</th>\n",
       "    </tr>\n",
       "  </thead>\n",
       "  <tbody>\n",
       "    <tr>\n",
       "      <th>0</th>\n",
       "      <td>BATES001</td>\n",
       "      <td>BATES002</td>\n",
       "      <td>BATES001</td>\n",
       "      <td>BATES004</td>\n",
       "      <td>sam@target.com , bill@ok.com</td>\n",
       "      <td>greg@ok.com</td>\n",
       "      <td>NaN</td>\n",
       "      <td>NaN</td>\n",
       "      <td>target corp.msg</td>\n",
       "      <td></td>\n",
       "      <td></td>\n",
       "    </tr>\n",
       "    <tr>\n",
       "      <th>1</th>\n",
       "      <td>BATES003</td>\n",
       "      <td>BATES004</td>\n",
       "      <td>BATES001</td>\n",
       "      <td>BATES004</td>\n",
       "      <td>felix@targetCorp.com ,  ,</td>\n",
       "      <td>phil@target2.com</td>\n",
       "      <td>NaN</td>\n",
       "      <td>NaN</td>\n",
       "      <td>ok corp.xlsx</td>\n",
       "      <td></td>\n",
       "      <td>lovable</td>\n",
       "    </tr>\n",
       "    <tr>\n",
       "      <th>2</th>\n",
       "      <td>BATES005</td>\n",
       "      <td>BATES010</td>\n",
       "      <td>BATES005</td>\n",
       "      <td>BATES010</td>\n",
       "      <td>jannie@targeter.com , nick@ok.com</td>\n",
       "      <td>greg@ok.com</td>\n",
       "      <td>NaN</td>\n",
       "      <td>NaN</td>\n",
       "      <td>target corp.msg</td>\n",
       "      <td>keeper</td>\n",
       "      <td>fine</td>\n",
       "    </tr>\n",
       "    <tr>\n",
       "      <th>3</th>\n",
       "      <td>BATES011</td>\n",
       "      <td>BATES012</td>\n",
       "      <td>BATES011</td>\n",
       "      <td>BATES012</td>\n",
       "      <td>felix@target2Corp.com , rajul@TARcorp.com ,</td>\n",
       "      <td>phil@target2.com</td>\n",
       "      <td>NaN</td>\n",
       "      <td>NaN</td>\n",
       "      <td>ok corp.xlsx</td>\n",
       "      <td></td>\n",
       "      <td>passable</td>\n",
       "    </tr>\n",
       "  </tbody>\n",
       "</table>\n",
       "</div>"
      ],
      "text/plain": [
       "    BegDoc     EndDoc BegAttach EndAttach  \\\n",
       "0  BATES001  BATES002  BATES001  BATES004   \n",
       "1  BATES003  BATES004  BATES001  BATES004   \n",
       "2  BATES005  BATES010  BATES005  BATES010   \n",
       "3  BATES011  BATES012  BATES011  BATES012   \n",
       "\n",
       "                                            To               From  CC  BCC  \\\n",
       "0                  sam@target.com , bill@ok.com       greg@ok.com NaN  NaN   \n",
       "1                    felix@targetCorp.com ,  ,   phil@target2.com NaN  NaN   \n",
       "2             jannie@targeter.com , nick@ok.com       greg@ok.com NaN  NaN   \n",
       "3  felix@target2Corp.com , rajul@TARcorp.com ,   phil@target2.com NaN  NaN   \n",
       "\n",
       "         Filename     Crap     Shit   \n",
       "0  target corp.msg                    \n",
       "1     ok corp.xlsx          lovable   \n",
       "2  target corp.msg  keeper      fine  \n",
       "3     ok corp.xlsx          passable  "
      ]
     },
     "execution_count": 76,
     "metadata": {},
     "output_type": "execute_result"
    }
   ],
   "source": [
    "testDAT"
   ]
  },
  {
   "cell_type": "code",
   "execution_count": 113,
   "metadata": {},
   "outputs": [],
   "source": [
    "#Writing data to DAT file \n",
    "\n",
    "datData.to_csv('test2.dat', header=True, index=None, sep='\u0014',\n",
    "               quoting=csv.QUOTE_NONNUMERIC, quotechar ='þ',\n",
    "               na_rep='',encoding='utf-8-sig',date_format='mm/dd/yyyy')"
   ]
  },
  {
   "cell_type": "markdown",
   "metadata": {},
   "source": [
    "## Production Level complex scrubbing ##"
   ]
  },
  {
   "cell_type": "code",
   "execution_count": 5,
   "metadata": {},
   "outputs": [],
   "source": [
    "ratanScrub = [\"Iconiq\",\"divesh\",\"divesh makan\",\"divesh@iconiqcapital.com\",\"David Upson\",\"dsupson@gmail.com\",\"kmorris@morrisassociatesllc.com\",\"kevin.s.murray@gmail.com\",\"stephen.c.li@gmail.com\",\"mteam@iconiqcapital.com\",\"mchong@gbar.com\",\"mof@ubp.ch\",\"marko@hunterdouglas.com\",\"marymoore1231@gmail.com\",\"mattg@gbar.com\",\"msmagacz@sternjointventure.com\",\"mboensch@atratoadvisors.com\",\"miked@philsmithmanage.com\",\"Michal.Jarzabek@cna.com\",\"mike.barbosa@gewarren.com\",\"MikeElkin@interactiveprops.com\",\"mtarczali@discap.com\",\"mfreier@mcarta.com\",\"monicactaylor@gmail.com\",\"taylor@navconsulting.net\",\"neil@northseacapital.co.uk\",\"flautt@comcast.net\",\"pduff58@gmail.com\",\"patrick@iconiqcapital.com\",\"Pjohnson@loews.com\",\"phils@philsmithmanage.com\",\"Jim Hoover\",\"jhoover@dauphincapital.com\",\"David Upson\",\"Andrew Beer\",\"Bronwyn M. Owen\",\"Byron Tucker\",\"C. Mead Welles\",\"Chris Jackson\",\"Christopher Golio\",\"Crosby Haynes\",\"Dan Gimbel\",\"David Barrett\",\"David Friedman\",\"Dominic Napolitano\",\"Elizabeth Hilpman\",\"J. Adam Lavin\",\"Jim O'Meara\",\"Joel Gantcher\",\"John Birdsall\",\"Jonathan S. Morgan\",\"Lauren E. McCollester\",\"Libbet Regan\",\"Michael Gray\",\"Monica Anne Cortellisi Taylor\",\"Pamela N. Speer\",\"Spencer Boggess\",\"W. Dean Regner\",\"Adam Lavin\",\"CTC Consulting\",\"David.Upson@ctcconsulting.com\",\"adb@beachheadcapital.com\",\"bowen@tcifund.com\",\"by.tucker@gmail.com\",\"mead.welles@octagonam.com\",\"cdj@probitaspartners.com\",\"chrisgolio@cstarz.com\",\"Crosby@BraddockMatthews.com\",\"Dan.Gimbel@ctcconsulting.com\",\"Barrett@gothamassetmanagement.com\",\"dfriedman@rockridge-llc.com\",\"dom@talsonpartners.com\",\"ehilpman@barlowpartners.com\",\"adam@novus.com\",\"jom@newpostsearch.com\",\"jgantcher@altinv.com\",\"john.birdsall@hapoalimsec.com\",\"jmorgan@soundfundadvisors.com\",\"lauren.mccollester@nbcuni.com\",\"Lr@boomcap.com\",\"MGray@pacificincome.com\",\"monicactaylor@gmail.com\",\"pnweldon@gmail.com\",\"xparitosh@gmail.com\",\"pstovell@firstlightadvisors.com\",\"spencer.boggess@ml.com\",\"wdregner@debevoise.com\",\"Julian Robertson\"]"
   ]
  },
  {
   "cell_type": "code",
   "execution_count": 6,
   "metadata": {},
   "outputs": [],
   "source": [
    "# Let's read our data and analyzing it\n",
    "ratanData = pd.read_table(\"PROD003_export.dat\", delimiter='\u0014', quotechar='þ' , engine='python' , encoding='utf-8-sig')"
   ]
  },
  {
   "cell_type": "code",
   "execution_count": 7,
   "metadata": {},
   "outputs": [
    {
     "data": {
      "text/html": [
       "<div>\n",
       "<style scoped>\n",
       "    .dataframe tbody tr th:only-of-type {\n",
       "        vertical-align: middle;\n",
       "    }\n",
       "\n",
       "    .dataframe tbody tr th {\n",
       "        vertical-align: top;\n",
       "    }\n",
       "\n",
       "    .dataframe thead th {\n",
       "        text-align: right;\n",
       "    }\n",
       "</style>\n",
       "<table border=\"1\" class=\"dataframe\">\n",
       "  <thead>\n",
       "    <tr style=\"text-align: right;\">\n",
       "      <th></th>\n",
       "      <th>Production::Begin Bates</th>\n",
       "      <th>Production::End Bates</th>\n",
       "      <th>Production::Begin Attachment</th>\n",
       "      <th>Production::End Attachment</th>\n",
       "      <th>Filename</th>\n",
       "      <th>Filesize</th>\n",
       "      <th>DocExt</th>\n",
       "      <th>RecordType</th>\n",
       "      <th>Email To</th>\n",
       "      <th>Email From</th>\n",
       "      <th>...</th>\n",
       "      <th>DateSent</th>\n",
       "      <th>Custodian</th>\n",
       "      <th>AllCustodians</th>\n",
       "      <th>TimeCreated</th>\n",
       "      <th>TimeSent</th>\n",
       "      <th>EDSource</th>\n",
       "      <th>EDFolder</th>\n",
       "      <th>MD5 Hash</th>\n",
       "      <th>Text Precedence</th>\n",
       "      <th>FILE_PATH</th>\n",
       "    </tr>\n",
       "  </thead>\n",
       "  <tbody>\n",
       "    <tr>\n",
       "      <th>0</th>\n",
       "      <td>RATAN 00003783</td>\n",
       "      <td>RATAN 00003783</td>\n",
       "      <td>NaN</td>\n",
       "      <td>NaN</td>\n",
       "      <td>1195619.eml</td>\n",
       "      <td>399971</td>\n",
       "      <td>eml</td>\n",
       "      <td>Message</td>\n",
       "      <td>&lt;ratanops@tigerratan.com&gt;</td>\n",
       "      <td>&lt;ezereports@tigerratan.com&gt;</td>\n",
       "      <td>...</td>\n",
       "      <td>7/20/2017</td>\n",
       "      <td>Ratan Capital Management</td>\n",
       "      <td>Ratan Capital Management;</td>\n",
       "      <td>20:08:59</td>\n",
       "      <td>20:32:02</td>\n",
       "      <td>Ratan Capital Management\\tigerratan.com_SF0126...</td>\n",
       "      <td>\\Ratan Capital Management\\tigerratan.com_SF012...</td>\n",
       "      <td>a9c90e837dc52426b28ba3778298c23f</td>\n",
       "      <td>.\\PROD003\\TEXT\\TEXT001\\RATAN 00003783.txt</td>\n",
       "      <td>NaN</td>\n",
       "    </tr>\n",
       "    <tr>\n",
       "      <th>1</th>\n",
       "      <td>RATAN 00003784</td>\n",
       "      <td>RATAN 00003784</td>\n",
       "      <td>NaN</td>\n",
       "      <td>NaN</td>\n",
       "      <td>310426.eml</td>\n",
       "      <td>185423</td>\n",
       "      <td>eml</td>\n",
       "      <td>Message</td>\n",
       "      <td>&lt;ratanops@tigerratan.com&gt;</td>\n",
       "      <td>&lt;ezereports@tigerratan.com&gt;</td>\n",
       "      <td>...</td>\n",
       "      <td>11/25/2014</td>\n",
       "      <td>Ratan Capital Management</td>\n",
       "      <td>Ratan Capital Management;</td>\n",
       "      <td>18:55:37</td>\n",
       "      <td>15:00:01</td>\n",
       "      <td>Ratan Capital Management\\tigerratan.com_SF0126...</td>\n",
       "      <td>\\Ratan Capital Management\\tigerratan.com_SF012...</td>\n",
       "      <td>f0f4f1855976e2bf24fc272ca908a9cc</td>\n",
       "      <td>.\\PROD003\\TEXT\\TEXT001\\RATAN 00003784.txt</td>\n",
       "      <td>NaN</td>\n",
       "    </tr>\n",
       "    <tr>\n",
       "      <th>2</th>\n",
       "      <td>RATAN 00003785</td>\n",
       "      <td>RATAN 00003785</td>\n",
       "      <td>NaN</td>\n",
       "      <td>NaN</td>\n",
       "      <td>260925.eml</td>\n",
       "      <td>308297</td>\n",
       "      <td>eml</td>\n",
       "      <td>Message</td>\n",
       "      <td>&lt;ratanops@tigerratan.com&gt;</td>\n",
       "      <td>&lt;ezereports@tigerratan.com&gt;</td>\n",
       "      <td>...</td>\n",
       "      <td>9/26/2014</td>\n",
       "      <td>Ratan Capital Management</td>\n",
       "      <td>Ratan Capital Management;</td>\n",
       "      <td>20:56:12</td>\n",
       "      <td>20:15:05</td>\n",
       "      <td>Ratan Capital Management\\tigerratan.com_SF0126...</td>\n",
       "      <td>\\Ratan Capital Management\\tigerratan.com_SF012...</td>\n",
       "      <td>7a8c28225bfa17cd74cf086bfce82e0e</td>\n",
       "      <td>.\\PROD003\\TEXT\\TEXT001\\RATAN 00003785.txt</td>\n",
       "      <td>NaN</td>\n",
       "    </tr>\n",
       "    <tr>\n",
       "      <th>3</th>\n",
       "      <td>RATAN 00003786</td>\n",
       "      <td>RATAN 00003787</td>\n",
       "      <td>NaN</td>\n",
       "      <td>NaN</td>\n",
       "      <td>665417.eml</td>\n",
       "      <td>83889</td>\n",
       "      <td>eml</td>\n",
       "      <td>Message</td>\n",
       "      <td>&lt;ratanops@tigerratan.com&gt;</td>\n",
       "      <td>Eze Reports &lt;ezereports@ratancapital.com&gt;</td>\n",
       "      <td>...</td>\n",
       "      <td>1/27/2016</td>\n",
       "      <td>Ratan Capital Management</td>\n",
       "      <td>Ratan Capital Management;</td>\n",
       "      <td>19:40:07</td>\n",
       "      <td>10:15:31</td>\n",
       "      <td>Ratan Capital Management\\tigerratan.com_SF0126...</td>\n",
       "      <td>\\Ratan Capital Management\\tigerratan.com_SF012...</td>\n",
       "      <td>939c746e0b155654bac647bd9c09d62a</td>\n",
       "      <td>.\\PROD003\\TEXT\\TEXT001\\RATAN 00003786.txt</td>\n",
       "      <td>NaN</td>\n",
       "    </tr>\n",
       "    <tr>\n",
       "      <th>4</th>\n",
       "      <td>RATAN 00003788</td>\n",
       "      <td>RATAN 00003788</td>\n",
       "      <td>NaN</td>\n",
       "      <td>NaN</td>\n",
       "      <td>521284.eml</td>\n",
       "      <td>18417</td>\n",
       "      <td>eml</td>\n",
       "      <td>Message</td>\n",
       "      <td>&lt;mshifren@tigerratan.com&gt;</td>\n",
       "      <td>Proofpoint Essentials &lt;do-not-reply@proofpoint...</td>\n",
       "      <td>...</td>\n",
       "      <td>8/7/2015</td>\n",
       "      <td>Ratan Capital Management</td>\n",
       "      <td>Ratan Capital Management;</td>\n",
       "      <td>19:21:51</td>\n",
       "      <td>19:06:01</td>\n",
       "      <td>Ratan Capital Management\\tigerratan.com_SF0126...</td>\n",
       "      <td>\\Ratan Capital Management\\tigerratan.com_SF012...</td>\n",
       "      <td>841d7c89f8cab952d589c0eb0ed2be7a</td>\n",
       "      <td>.\\PROD003\\TEXT\\TEXT001\\RATAN 00003788.txt</td>\n",
       "      <td>NaN</td>\n",
       "    </tr>\n",
       "  </tbody>\n",
       "</table>\n",
       "<p>5 rows × 26 columns</p>\n",
       "</div>"
      ],
      "text/plain": [
       "  Production::Begin Bates Production::End Bates Production::Begin Attachment  \\\n",
       "0          RATAN 00003783        RATAN 00003783                          NaN   \n",
       "1          RATAN 00003784        RATAN 00003784                          NaN   \n",
       "2          RATAN 00003785        RATAN 00003785                          NaN   \n",
       "3          RATAN 00003786        RATAN 00003787                          NaN   \n",
       "4          RATAN 00003788        RATAN 00003788                          NaN   \n",
       "\n",
       "  Production::End Attachment     Filename  Filesize DocExt RecordType  \\\n",
       "0                        NaN  1195619.eml    399971    eml    Message   \n",
       "1                        NaN   310426.eml    185423    eml    Message   \n",
       "2                        NaN   260925.eml    308297    eml    Message   \n",
       "3                        NaN   665417.eml     83889    eml    Message   \n",
       "4                        NaN   521284.eml     18417    eml    Message   \n",
       "\n",
       "                    Email To  \\\n",
       "0  <ratanops@tigerratan.com>   \n",
       "1  <ratanops@tigerratan.com>   \n",
       "2  <ratanops@tigerratan.com>   \n",
       "3  <ratanops@tigerratan.com>   \n",
       "4  <mshifren@tigerratan.com>   \n",
       "\n",
       "                                          Email From    ...       DateSent  \\\n",
       "0                        <ezereports@tigerratan.com>    ...      7/20/2017   \n",
       "1                        <ezereports@tigerratan.com>    ...     11/25/2014   \n",
       "2                        <ezereports@tigerratan.com>    ...      9/26/2014   \n",
       "3          Eze Reports <ezereports@ratancapital.com>    ...      1/27/2016   \n",
       "4  Proofpoint Essentials <do-not-reply@proofpoint...    ...       8/7/2015   \n",
       "\n",
       "                  Custodian              AllCustodians TimeCreated  TimeSent  \\\n",
       "0  Ratan Capital Management  Ratan Capital Management;    20:08:59  20:32:02   \n",
       "1  Ratan Capital Management  Ratan Capital Management;    18:55:37  15:00:01   \n",
       "2  Ratan Capital Management  Ratan Capital Management;    20:56:12  20:15:05   \n",
       "3  Ratan Capital Management  Ratan Capital Management;    19:40:07  10:15:31   \n",
       "4  Ratan Capital Management  Ratan Capital Management;    19:21:51  19:06:01   \n",
       "\n",
       "                                            EDSource  \\\n",
       "0  Ratan Capital Management\\tigerratan.com_SF0126...   \n",
       "1  Ratan Capital Management\\tigerratan.com_SF0126...   \n",
       "2  Ratan Capital Management\\tigerratan.com_SF0126...   \n",
       "3  Ratan Capital Management\\tigerratan.com_SF0126...   \n",
       "4  Ratan Capital Management\\tigerratan.com_SF0126...   \n",
       "\n",
       "                                            EDFolder  \\\n",
       "0  \\Ratan Capital Management\\tigerratan.com_SF012...   \n",
       "1  \\Ratan Capital Management\\tigerratan.com_SF012...   \n",
       "2  \\Ratan Capital Management\\tigerratan.com_SF012...   \n",
       "3  \\Ratan Capital Management\\tigerratan.com_SF012...   \n",
       "4  \\Ratan Capital Management\\tigerratan.com_SF012...   \n",
       "\n",
       "                           MD5 Hash  \\\n",
       "0  a9c90e837dc52426b28ba3778298c23f   \n",
       "1  f0f4f1855976e2bf24fc272ca908a9cc   \n",
       "2  7a8c28225bfa17cd74cf086bfce82e0e   \n",
       "3  939c746e0b155654bac647bd9c09d62a   \n",
       "4  841d7c89f8cab952d589c0eb0ed2be7a   \n",
       "\n",
       "                             Text Precedence FILE_PATH  \n",
       "0  .\\PROD003\\TEXT\\TEXT001\\RATAN 00003783.txt       NaN  \n",
       "1  .\\PROD003\\TEXT\\TEXT001\\RATAN 00003784.txt       NaN  \n",
       "2  .\\PROD003\\TEXT\\TEXT001\\RATAN 00003785.txt       NaN  \n",
       "3  .\\PROD003\\TEXT\\TEXT001\\RATAN 00003786.txt       NaN  \n",
       "4  .\\PROD003\\TEXT\\TEXT001\\RATAN 00003788.txt       NaN  \n",
       "\n",
       "[5 rows x 26 columns]"
      ]
     },
     "execution_count": 7,
     "metadata": {},
     "output_type": "execute_result"
    }
   ],
   "source": [
    "ratanData.head(5)"
   ]
  },
  {
   "cell_type": "code",
   "execution_count": 8,
   "metadata": {},
   "outputs": [],
   "source": [
    "fromList = list(ratanData['Email From'].unique())\n",
    "toList = list(ratanData['Email To'].unique())\n",
    "ccList = list(ratanData['Email CC'].unique())\n",
    "bccList = list(ratanData['Email BCC'].unique())\n",
    "\n",
    "allEmailList = fromList + toList + ccList + bccList\n",
    "\n",
    "pd.DataFrame(allEmailList).to_csv('allEmailList.csv')\n"
   ]
  },
  {
   "cell_type": "code",
   "execution_count": 11,
   "metadata": {},
   "outputs": [
    {
     "data": {
      "text/plain": [
       "[]"
      ]
     },
     "execution_count": 11,
     "metadata": {},
     "output_type": "execute_result"
    }
   ],
   "source": [
    "emailRedactList = []\n",
    "\n",
    "for thing in allEmailList:\n",
    "    element = str(thing)\n",
    "    if ';' in element:\n",
    "        subElementList = element.split(';')\n",
    "        for subElement in subElementList:\n",
    "            if any(s in subElement for s in ('iconiq', 'Iconiq', 'ICONIQ')):\n",
    "                emailRedactList.append(subElement.strip())\n",
    "    else:\n",
    "        if any(s in element for s in ('iconiq', 'Iconiq', 'ICONIQ')):\n",
    "                emailRedactList.append(element.strip())\n",
    "                \n",
    "emailRedactList"
   ]
  },
  {
   "cell_type": "code",
   "execution_count": 81,
   "metadata": {},
   "outputs": [],
   "source": [
    "ratanData = ratanData.replace(ratanScrub, '', regex=True)"
   ]
  },
  {
   "cell_type": "code",
   "execution_count": 82,
   "metadata": {},
   "outputs": [],
   "source": [
    "ratanData = ratanData.replace(',,', '', regex=True)"
   ]
  },
  {
   "cell_type": "code",
   "execution_count": 99,
   "metadata": {},
   "outputs": [
    {
     "data": {
      "text/plain": [
       "[]"
      ]
     },
     "execution_count": 99,
     "metadata": {},
     "output_type": "execute_result"
    }
   ],
   "source": [
    "emailRedactList"
   ]
  },
  {
   "cell_type": "code",
   "execution_count": 107,
   "metadata": {},
   "outputs": [],
   "source": [
    "ratanData.to_csv('PROD003_Scrub.dat', header=True, index=None, sep='\u0014',\n",
    "               quoting=csv.QUOTE_NONNUMERIC, quotechar ='þ',\n",
    "               na_rep='',encoding='utf-8-sig',date_format='mm/dd/yyyy')"
   ]
  },
  {
   "cell_type": "markdown",
   "metadata": {},
   "source": [
    "## Redactions and Removing email files from DAT"
   ]
  },
  {
   "cell_type": "code",
   "execution_count": 116,
   "metadata": {},
   "outputs": [],
   "source": [
    "x = ['1','2;3;4','1000','2000']"
   ]
  },
  {
   "cell_type": "code",
   "execution_count": 117,
   "metadata": {},
   "outputs": [
    {
     "name": "stdout",
     "output_type": "stream",
     "text": [
      "2;3;4\n",
      "True\n",
      "True\n",
      "['1', '2', '3', '4', '1000', '2000']\n"
     ]
    }
   ],
   "source": [
    "newList = list()\n",
    "\n",
    "print(x[1])\n",
    "print(';' in x[1])\n",
    "print('2' in x[1])\n",
    "\n",
    "\n",
    "for element in x:\n",
    "    if ';' in element:\n",
    "        subElementList = element.split(';')\n",
    "        for subElement in subElementList:\n",
    "            newList.append(subElement)\n",
    "    else: newList.append(element)    \n",
    "            \n",
    "            \n",
    "print(newList)"
   ]
  },
  {
   "cell_type": "markdown",
   "metadata": {},
   "source": [
    "## Splitting DATs"
   ]
  },
  {
   "cell_type": "markdown",
   "metadata": {},
   "source": [
    "https://stackoverflow.com/questions/41624241/pandas-split-dataframe-into-two-dataframes\n",
    "\n",
    "\n",
    "http://chris.friedline.net/2015-12-15-rutgers/lessons/python2/02-index-slice-subset.html\n",
    "\n",
    "\n",
    "\n",
    "https://stackoverflow.com/questions/34682828/extracting-specific-selected-columns-to-new-dataframe-as-a-copy"
   ]
  },
  {
   "cell_type": "markdown",
   "metadata": {},
   "source": [
    "## Splitting out specific columns "
   ]
  },
  {
   "cell_type": "markdown",
   "metadata": {},
   "source": [
    "Method 1 - creating a copy of the 'BEGBATES' column into a new Data Frame \n",
    "\n",
    "to intiate it as a new dataframe you need to call pd.DataFrame() on the copy or else it will just be an object \n",
    "\n"
   ]
  },
  {
   "cell_type": "code",
   "execution_count": 118,
   "metadata": {},
   "outputs": [],
   "source": [
    "controlNumOverlay = pd.DataFrame(datData['BEGBATES'].copy())\n",
    "\n",
    "controlNumOverlay.to_csv('controlnumoverlay.dat', header=True, index=None, sep='\u0014', quotechar ='þ',\n",
    "                        quoting=csv.QUOTE_NONNUMERIC, na_rep='',encoding='utf-8-sig')\n",
    "     "
   ]
  },
  {
   "cell_type": "code",
   "execution_count": 119,
   "metadata": {},
   "outputs": [
    {
     "data": {
      "text/html": [
       "<div>\n",
       "<style scoped>\n",
       "    .dataframe tbody tr th:only-of-type {\n",
       "        vertical-align: middle;\n",
       "    }\n",
       "\n",
       "    .dataframe tbody tr th {\n",
       "        vertical-align: top;\n",
       "    }\n",
       "\n",
       "    .dataframe thead th {\n",
       "        text-align: right;\n",
       "    }\n",
       "</style>\n",
       "<table border=\"1\" class=\"dataframe\">\n",
       "  <thead>\n",
       "    <tr style=\"text-align: right;\">\n",
       "      <th></th>\n",
       "      <th>BEGBATES</th>\n",
       "    </tr>\n",
       "  </thead>\n",
       "  <tbody>\n",
       "    <tr>\n",
       "      <th>0</th>\n",
       "      <td>BIGBANK_00001652</td>\n",
       "    </tr>\n",
       "    <tr>\n",
       "      <th>1</th>\n",
       "      <td>BIGBANK_00001653</td>\n",
       "    </tr>\n",
       "    <tr>\n",
       "      <th>2</th>\n",
       "      <td>BIGBANK_00001655</td>\n",
       "    </tr>\n",
       "    <tr>\n",
       "      <th>3</th>\n",
       "      <td>BIGBANK_00001657</td>\n",
       "    </tr>\n",
       "    <tr>\n",
       "      <th>4</th>\n",
       "      <td>BIGBANK_00001658</td>\n",
       "    </tr>\n",
       "  </tbody>\n",
       "</table>\n",
       "</div>"
      ],
      "text/plain": [
       "           BEGBATES\n",
       "0  BIGBANK_00001652\n",
       "1  BIGBANK_00001653\n",
       "2  BIGBANK_00001655\n",
       "3  BIGBANK_00001657\n",
       "4  BIGBANK_00001658"
      ]
     },
     "execution_count": 119,
     "metadata": {},
     "output_type": "execute_result"
    }
   ],
   "source": [
    "\n",
    "controlNumOverlay.head(5)"
   ]
  },
  {
   "cell_type": "markdown",
   "metadata": {},
   "source": [
    "Method 2 - writing selecting specific columns to write from original dataframe \n",
    "\n",
    "*** note need to give columns as a list of column names"
   ]
  },
  {
   "cell_type": "code",
   "execution_count": 120,
   "metadata": {},
   "outputs": [],
   "source": [
    "datData.to_csv('controlnumoverlay2.dat', header=True, index=None, sep='\u0014', na_rep='',\n",
    "               quoting=csv.QUOTE_NONNUMERIC, quotechar ='þ', columns=['BEGBATES']\n",
    "               ,encoding='utf-8-sig')"
   ]
  },
  {
   "cell_type": "code",
   "execution_count": 121,
   "metadata": {},
   "outputs": [],
   "source": [
    "\n",
    "controlNumOverlay2 = datData[['BEGBATES','ENDBATES']].copy()\n",
    "\n"
   ]
  },
  {
   "cell_type": "code",
   "execution_count": 122,
   "metadata": {},
   "outputs": [
    {
     "data": {
      "text/html": [
       "<div>\n",
       "<style scoped>\n",
       "    .dataframe tbody tr th:only-of-type {\n",
       "        vertical-align: middle;\n",
       "    }\n",
       "\n",
       "    .dataframe tbody tr th {\n",
       "        vertical-align: top;\n",
       "    }\n",
       "\n",
       "    .dataframe thead th {\n",
       "        text-align: right;\n",
       "    }\n",
       "</style>\n",
       "<table border=\"1\" class=\"dataframe\">\n",
       "  <thead>\n",
       "    <tr style=\"text-align: right;\">\n",
       "      <th></th>\n",
       "      <th>BEGBATES</th>\n",
       "      <th>ENDBATES</th>\n",
       "    </tr>\n",
       "  </thead>\n",
       "  <tbody>\n",
       "    <tr>\n",
       "      <th>0</th>\n",
       "      <td>BIGBANK_00001652</td>\n",
       "      <td>BIGBANK_00001652</td>\n",
       "    </tr>\n",
       "    <tr>\n",
       "      <th>1</th>\n",
       "      <td>BIGBANK_00001653</td>\n",
       "      <td>BIGBANK_00001654</td>\n",
       "    </tr>\n",
       "    <tr>\n",
       "      <th>2</th>\n",
       "      <td>BIGBANK_00001655</td>\n",
       "      <td>BIGBANK_00001656</td>\n",
       "    </tr>\n",
       "    <tr>\n",
       "      <th>3</th>\n",
       "      <td>BIGBANK_00001657</td>\n",
       "      <td>BIGBANK_00001657</td>\n",
       "    </tr>\n",
       "    <tr>\n",
       "      <th>4</th>\n",
       "      <td>BIGBANK_00001658</td>\n",
       "      <td>BIGBANK_00001661</td>\n",
       "    </tr>\n",
       "  </tbody>\n",
       "</table>\n",
       "</div>"
      ],
      "text/plain": [
       "           BEGBATES          ENDBATES\n",
       "0  BIGBANK_00001652  BIGBANK_00001652\n",
       "1  BIGBANK_00001653  BIGBANK_00001654\n",
       "2  BIGBANK_00001655  BIGBANK_00001656\n",
       "3  BIGBANK_00001657  BIGBANK_00001657\n",
       "4  BIGBANK_00001658  BIGBANK_00001661"
      ]
     },
     "execution_count": 122,
     "metadata": {},
     "output_type": "execute_result"
    }
   ],
   "source": [
    "controlNumOverlay2.head(5)"
   ]
  },
  {
   "cell_type": "code",
   "execution_count": null,
   "metadata": {},
   "outputs": [],
   "source": []
  }
 ],
 "metadata": {
  "kernelspec": {
   "display_name": "Python 3",
   "language": "python",
   "name": "python3"
  },
  "language_info": {
   "codemirror_mode": {
    "name": "ipython",
    "version": 3
   },
   "file_extension": ".py",
   "mimetype": "text/x-python",
   "name": "python",
   "nbconvert_exporter": "python",
   "pygments_lexer": "ipython3",
   "version": "3.7.1"
  }
 },
 "nbformat": 4,
 "nbformat_minor": 2
}
